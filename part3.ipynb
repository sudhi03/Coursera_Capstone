{
 "cells": [
  {
   "cell_type": "markdown",
   "metadata": {},
   "source": [
    "<h1>Segmenting and Clustering Neighborhoods in Toronto</h1>\n"
   ]
  },
  {
   "cell_type": "markdown",
   "metadata": {},
   "source": [
    "<h2>Step 1 - Scrap Wikipedia for data using BeautifulSoup</h2>\n",
    "<p>Use the Notebook to build the code to scrape the following Wikipedia page, <a href='https://en.wikipedia.org/wiki/List_of_postal_codes_of_Canada:_M' target='_blank'>https://en.wikipedia.org/wiki/List_of_postal_codes_of_Canada:_M</a>, in order to obtain the data that is in the table of postal codes and to transform the data into a pandas dataframe like the one shown below:</p>\n",
    "<div> \n",
    "    To create the dataframe:\n",
    "    <ul>\n",
    "        <li>The dataframe will consist of three columns: PostalCode, Borough, and Neighborhood.</li>\n",
    "        <li>Only process the cells that have an assigned borough. Ignore cells with a borough that is Not assigned.</li>\n",
    "        <li>More than one neighborhood can exist in one postal code area. For example, in the table on the Wikipedia page, you will notice that M5A is listed twice and has two neighborhoods: Harbourfront and Regent Park. These two rows will be combined into one row with the neighborhoods separated with a comma as shown in row 11 in the above table.</li>\n",
    "        <li>If a cell has a borough but a Not assigned neighborhood, then the neighborhood will be the same as the borough. So for the 9th cell in the table on the Wikipedia page, the value of the Borough and the Neighborhood columns will be Queen's Park.</li>\n",
    "        <li>Clean your Notebook and add Markdown cells to explain your work and any assumptions you are making.</li>\n",
    "        <li>In the last cell of your notebook, use the .shape method to print the number of rows of your dataframe.</li>\n",
    "    </ul>\n",
    "</div>\n",
    "\n",
    "<p> Note: There are different website scraping libraries and packages in Python. One of the most common packages is BeautifulSoup. Here is the package's main documentation page: <a href='http://beautiful-soup-4.readthedocs.io/en/latest/' target='_blank'>http://beautiful-soup-4.readthedocs.io/en/latest/</a></p> "
   ]
  },
  {
   "cell_type": "code",
   "execution_count": 8,
   "metadata": {},
   "outputs": [
    {
     "name": "stdout",
     "output_type": "stream",
     "text": [
      "Requirement already satisfied: BeautifulSoup4 in c:\\users\\sudarshanrajan\\appdata\\local\\programs\\python\\python37\\lib\\site-packages (4.7.1)\n",
      "Requirement already satisfied: soupsieve>=1.2 in c:\\users\\sudarshanrajan\\appdata\\local\\programs\\python\\python37\\lib\\site-packages (from BeautifulSoup4) (1.9.2)\n",
      "Requirement already satisfied: requests in c:\\users\\sudarshanrajan\\appdata\\local\\programs\\python\\python37\\lib\\site-packages (2.22.0)\n",
      "Requirement already satisfied: urllib3!=1.25.0,!=1.25.1,<1.26,>=1.21.1 in c:\\users\\sudarshanrajan\\appdata\\local\\programs\\python\\python37\\lib\\site-packages (from requests) (1.25.3)\n",
      "Requirement already satisfied: chardet<3.1.0,>=3.0.2 in c:\\users\\sudarshanrajan\\appdata\\local\\programs\\python\\python37\\lib\\site-packages (from requests) (3.0.4)\n",
      "Requirement already satisfied: idna<2.9,>=2.5 in c:\\users\\sudarshanrajan\\appdata\\local\\programs\\python\\python37\\lib\\site-packages (from requests) (2.8)\n",
      "Requirement already satisfied: certifi>=2017.4.17 in c:\\users\\sudarshanrajan\\appdata\\local\\programs\\python\\python37\\lib\\site-packages (from requests) (2019.6.16)\n"
     ]
    }
   ],
   "source": [
    "#install Beautiful Soup and requests for Web Scaping\n",
    "!pip install BeautifulSoup4\n",
    "!pip install requests"
   ]
  },
  {
   "cell_type": "markdown",
   "metadata": {},
   "source": [
    "<h3> Step 1A: Get Data </h3>\n",
    "<ol>\n",
    "    <li>Get HTML from wikipedia</li>\n",
    "    <li> Use BeautifySoup to parse html data </li>\n",
    "    <li> Store parsed data into Pandas DataFrame </li>\n",
    "</ol>"
   ]
  },
  {
   "cell_type": "code",
   "execution_count": 9,
   "metadata": {},
   "outputs": [
    {
     "data": {
      "text/html": [
       "<div>\n",
       "<style scoped>\n",
       "    .dataframe tbody tr th:only-of-type {\n",
       "        vertical-align: middle;\n",
       "    }\n",
       "\n",
       "    .dataframe tbody tr th {\n",
       "        vertical-align: top;\n",
       "    }\n",
       "\n",
       "    .dataframe thead th {\n",
       "        text-align: right;\n",
       "    }\n",
       "</style>\n",
       "<table border=\"1\" class=\"dataframe\">\n",
       "  <thead>\n",
       "    <tr style=\"text-align: right;\">\n",
       "      <th></th>\n",
       "      <th>Postcode</th>\n",
       "      <th>Borough</th>\n",
       "      <th>Neighbourhood</th>\n",
       "    </tr>\n",
       "  </thead>\n",
       "  <tbody>\n",
       "    <tr>\n",
       "      <th>0</th>\n",
       "      <td>M1A</td>\n",
       "      <td>Not assigned</td>\n",
       "      <td>Not assigned</td>\n",
       "    </tr>\n",
       "    <tr>\n",
       "      <th>1</th>\n",
       "      <td>M2A</td>\n",
       "      <td>Not assigned</td>\n",
       "      <td>Not assigned</td>\n",
       "    </tr>\n",
       "    <tr>\n",
       "      <th>2</th>\n",
       "      <td>M3A</td>\n",
       "      <td>North York</td>\n",
       "      <td>Parkwoods</td>\n",
       "    </tr>\n",
       "    <tr>\n",
       "      <th>3</th>\n",
       "      <td>M4A</td>\n",
       "      <td>North York</td>\n",
       "      <td>Victoria Village</td>\n",
       "    </tr>\n",
       "    <tr>\n",
       "      <th>4</th>\n",
       "      <td>M5A</td>\n",
       "      <td>Downtown Toronto</td>\n",
       "      <td>Harbourfront</td>\n",
       "    </tr>\n",
       "  </tbody>\n",
       "</table>\n",
       "</div>"
      ],
      "text/plain": [
       "  Postcode           Borough     Neighbourhood\n",
       "0      M1A      Not assigned      Not assigned\n",
       "1      M2A      Not assigned      Not assigned\n",
       "2      M3A        North York         Parkwoods\n",
       "3      M4A        North York  Victoria Village\n",
       "4      M5A  Downtown Toronto      Harbourfront"
      ]
     },
     "execution_count": 9,
     "metadata": {},
     "output_type": "execute_result"
    }
   ],
   "source": [
    "#imports\n",
    "from bs4 import BeautifulSoup\n",
    "import requests\n",
    "import pandas as pd\n",
    "import numpy as np\n",
    "\n",
    "#get html from wiki page and create soup object\n",
    "source = requests.get(\"https://en.wikipedia.org/wiki/List_of_postal_codes_of_Canada:_M\")\n",
    "soup = BeautifulSoup(source.text, 'lxml')\n",
    "\n",
    "#using soup object, iterate the .wikitable to get the data from the HTML page and store it into a list\n",
    "data = []\n",
    "columns = []\n",
    "table = soup.find(class_='wikitable')\n",
    "for index, tr in enumerate(table.find_all('tr')):\n",
    "    section = []\n",
    "    for td in tr.find_all(['th','td']):\n",
    "        section.append(td.text.rstrip())\n",
    "    \n",
    "    #First row of data is the header\n",
    "    if (index == 0):\n",
    "        columns = section\n",
    "    else:\n",
    "        data.append(section)\n",
    "\n",
    "#convert list into Pandas DataFrame\n",
    "canada_df = pd.DataFrame(data = data,columns = columns)\n",
    "canada_df.head()"
   ]
  },
  {
   "cell_type": "markdown",
   "metadata": {},
   "source": [
    "<h3>Step 1B: Data Cleanup</h3>\n",
    "<ol>\n",
    "    <li> Remove Boroughs that are 'Not assigned' </li>\n",
    "    <li> More than one neighborhood can exist in one postal code area, combined these into one row with the neighborhoods separated with a comma</li>\n",
    "    <li>If a cell has a borough but a Not assigned neighborhood, then the neighborhood will be the same as the borough</li>\n",
    "</ol>"
   ]
  },
  {
   "cell_type": "code",
   "execution_count": 10,
   "metadata": {},
   "outputs": [
    {
     "data": {
      "text/html": [
       "<div>\n",
       "<style scoped>\n",
       "    .dataframe tbody tr th:only-of-type {\n",
       "        vertical-align: middle;\n",
       "    }\n",
       "\n",
       "    .dataframe tbody tr th {\n",
       "        vertical-align: top;\n",
       "    }\n",
       "\n",
       "    .dataframe thead th {\n",
       "        text-align: right;\n",
       "    }\n",
       "</style>\n",
       "<table border=\"1\" class=\"dataframe\">\n",
       "  <thead>\n",
       "    <tr style=\"text-align: right;\">\n",
       "      <th></th>\n",
       "      <th>Postcode</th>\n",
       "      <th>Borough</th>\n",
       "      <th>Neighbourhood</th>\n",
       "    </tr>\n",
       "  </thead>\n",
       "  <tbody>\n",
       "    <tr>\n",
       "      <th>2</th>\n",
       "      <td>M3A</td>\n",
       "      <td>North York</td>\n",
       "      <td>Parkwoods</td>\n",
       "    </tr>\n",
       "    <tr>\n",
       "      <th>3</th>\n",
       "      <td>M4A</td>\n",
       "      <td>North York</td>\n",
       "      <td>Victoria Village</td>\n",
       "    </tr>\n",
       "    <tr>\n",
       "      <th>4</th>\n",
       "      <td>M5A</td>\n",
       "      <td>Downtown Toronto</td>\n",
       "      <td>Harbourfront</td>\n",
       "    </tr>\n",
       "    <tr>\n",
       "      <th>5</th>\n",
       "      <td>M5A</td>\n",
       "      <td>Downtown Toronto</td>\n",
       "      <td>Regent Park</td>\n",
       "    </tr>\n",
       "    <tr>\n",
       "      <th>6</th>\n",
       "      <td>M6A</td>\n",
       "      <td>North York</td>\n",
       "      <td>Lawrence Heights</td>\n",
       "    </tr>\n",
       "  </tbody>\n",
       "</table>\n",
       "</div>"
      ],
      "text/plain": [
       "  Postcode           Borough     Neighbourhood\n",
       "2      M3A        North York         Parkwoods\n",
       "3      M4A        North York  Victoria Village\n",
       "4      M5A  Downtown Toronto      Harbourfront\n",
       "5      M5A  Downtown Toronto       Regent Park\n",
       "6      M6A        North York  Lawrence Heights"
      ]
     },
     "execution_count": 10,
     "metadata": {},
     "output_type": "execute_result"
    }
   ],
   "source": [
    "#Remove Boroughs that are 'Not assigned'\n",
    "canada_df = canada_df[canada_df['Borough'] != 'Not assigned']\n",
    "canada_df.head()"
   ]
  },
  {
   "cell_type": "code",
   "execution_count": 11,
   "metadata": {},
   "outputs": [
    {
     "data": {
      "text/html": [
       "<div>\n",
       "<style scoped>\n",
       "    .dataframe tbody tr th:only-of-type {\n",
       "        vertical-align: middle;\n",
       "    }\n",
       "\n",
       "    .dataframe tbody tr th {\n",
       "        vertical-align: top;\n",
       "    }\n",
       "\n",
       "    .dataframe thead th {\n",
       "        text-align: right;\n",
       "    }\n",
       "</style>\n",
       "<table border=\"1\" class=\"dataframe\">\n",
       "  <thead>\n",
       "    <tr style=\"text-align: right;\">\n",
       "      <th></th>\n",
       "      <th>Borough</th>\n",
       "      <th>Neighbourhood</th>\n",
       "    </tr>\n",
       "    <tr>\n",
       "      <th>Postcode</th>\n",
       "      <th></th>\n",
       "      <th></th>\n",
       "    </tr>\n",
       "  </thead>\n",
       "  <tbody>\n",
       "    <tr>\n",
       "      <th>M3A</th>\n",
       "      <td>North York</td>\n",
       "      <td>Parkwoods</td>\n",
       "    </tr>\n",
       "    <tr>\n",
       "      <th>M4A</th>\n",
       "      <td>North York</td>\n",
       "      <td>Victoria Village</td>\n",
       "    </tr>\n",
       "    <tr>\n",
       "      <th>M5A</th>\n",
       "      <td>Downtown Toronto</td>\n",
       "      <td>Harbourfront, Regent Park</td>\n",
       "    </tr>\n",
       "    <tr>\n",
       "      <th>M6A</th>\n",
       "      <td>North York</td>\n",
       "      <td>Lawrence Heights, Lawrence Manor</td>\n",
       "    </tr>\n",
       "    <tr>\n",
       "      <th>M7A</th>\n",
       "      <td>Queen's Park</td>\n",
       "      <td>Not assigned</td>\n",
       "    </tr>\n",
       "  </tbody>\n",
       "</table>\n",
       "</div>"
      ],
      "text/plain": [
       "                   Borough                     Neighbourhood\n",
       "Postcode                                                    \n",
       "M3A             North York                         Parkwoods\n",
       "M4A             North York                  Victoria Village\n",
       "M5A       Downtown Toronto         Harbourfront, Regent Park\n",
       "M6A             North York  Lawrence Heights, Lawrence Manor\n",
       "M7A           Queen's Park                      Not assigned"
      ]
     },
     "execution_count": 11,
     "metadata": {},
     "output_type": "execute_result"
    }
   ],
   "source": [
    "# More than one neighborhood can exist in one postal code area, combined these into one row with the neighborhoods separated with a comma\n",
    "canada_df[\"Neighbourhood\"] = canada_df.groupby(\"Postcode\")[\"Neighbourhood\"].transform(lambda neigh: ', '.join(neigh))\n",
    "\n",
    "#remove duplicates\n",
    "canada_df = canada_df.drop_duplicates()\n",
    "\n",
    "#update index to be postcode if it isn't already\n",
    "if(canada_df.index.name != 'Postcode'):\n",
    "    canada_df = canada_df.set_index('Postcode')\n",
    "    \n",
    "canada_df.head()"
   ]
  },
  {
   "cell_type": "code",
   "execution_count": 12,
   "metadata": {},
   "outputs": [
    {
     "data": {
      "text/html": [
       "<div>\n",
       "<style scoped>\n",
       "    .dataframe tbody tr th:only-of-type {\n",
       "        vertical-align: middle;\n",
       "    }\n",
       "\n",
       "    .dataframe tbody tr th {\n",
       "        vertical-align: top;\n",
       "    }\n",
       "\n",
       "    .dataframe thead th {\n",
       "        text-align: right;\n",
       "    }\n",
       "</style>\n",
       "<table border=\"1\" class=\"dataframe\">\n",
       "  <thead>\n",
       "    <tr style=\"text-align: right;\">\n",
       "      <th></th>\n",
       "      <th>Borough</th>\n",
       "      <th>Neighbourhood</th>\n",
       "    </tr>\n",
       "    <tr>\n",
       "      <th>Postcode</th>\n",
       "      <th></th>\n",
       "      <th></th>\n",
       "    </tr>\n",
       "  </thead>\n",
       "  <tbody>\n",
       "    <tr>\n",
       "      <th>M3A</th>\n",
       "      <td>North York</td>\n",
       "      <td>Parkwoods</td>\n",
       "    </tr>\n",
       "    <tr>\n",
       "      <th>M4A</th>\n",
       "      <td>North York</td>\n",
       "      <td>Victoria Village</td>\n",
       "    </tr>\n",
       "    <tr>\n",
       "      <th>M5A</th>\n",
       "      <td>Downtown Toronto</td>\n",
       "      <td>Harbourfront, Regent Park</td>\n",
       "    </tr>\n",
       "    <tr>\n",
       "      <th>M6A</th>\n",
       "      <td>North York</td>\n",
       "      <td>Lawrence Heights, Lawrence Manor</td>\n",
       "    </tr>\n",
       "    <tr>\n",
       "      <th>M7A</th>\n",
       "      <td>Queen's Park</td>\n",
       "      <td>Queen's Park</td>\n",
       "    </tr>\n",
       "  </tbody>\n",
       "</table>\n",
       "</div>"
      ],
      "text/plain": [
       "                   Borough                     Neighbourhood\n",
       "Postcode                                                    \n",
       "M3A             North York                         Parkwoods\n",
       "M4A             North York                  Victoria Village\n",
       "M5A       Downtown Toronto         Harbourfront, Regent Park\n",
       "M6A             North York  Lawrence Heights, Lawrence Manor\n",
       "M7A           Queen's Park                      Queen's Park"
      ]
     },
     "execution_count": 12,
     "metadata": {},
     "output_type": "execute_result"
    }
   ],
   "source": [
    "# If a cell has a borough but a Not assigned neighborhood, then the neighborhood will be the same as the borough\n",
    "canada_df['Neighbourhood'].replace(\"Not assigned\", canada_df[\"Borough\"],inplace=True)\n",
    "canada_df.head()"
   ]
  },
  {
   "cell_type": "markdown",
   "metadata": {},
   "source": [
    "<h3>Step 1C - Output</h3>\n",
    "<p>In the last cell of your notebook, use the .shape method to print the number of rows of your dataframe.</p>"
   ]
  },
  {
   "cell_type": "code",
   "execution_count": 13,
   "metadata": {},
   "outputs": [
    {
     "data": {
      "text/plain": [
       "(103, 2)"
      ]
     },
     "execution_count": 13,
     "metadata": {},
     "output_type": "execute_result"
    }
   ],
   "source": [
    "canada_df.shape"
   ]
  },
  {
   "cell_type": "markdown",
   "metadata": {},
   "source": [
    "<h2> Step 2 - Add Geospatial Data</h2>\n",
    "<p>Now that you have built a dataframe of the postal code of each neighborhood along with the borough name and neighborhood name, in order to utilize the Foursquare location data, we need to get the latitude and the longitude coordinates of each neighborhood.</p>\n",
    "<p>We will use a link to a csv file that has the geographical coordinates of each postal code: <a href='http://cocl.us/Geospatial_data' target=\"_blank\">http://cocl.us/Geospatial_data</a> to get the latitude and the longitude coordinates of each neighborhood.</p>\n"
   ]
  },
  {
   "cell_type": "code",
   "execution_count": 14,
   "metadata": {},
   "outputs": [
    {
     "data": {
      "text/html": [
       "<div>\n",
       "<style scoped>\n",
       "    .dataframe tbody tr th:only-of-type {\n",
       "        vertical-align: middle;\n",
       "    }\n",
       "\n",
       "    .dataframe tbody tr th {\n",
       "        vertical-align: top;\n",
       "    }\n",
       "\n",
       "    .dataframe thead th {\n",
       "        text-align: right;\n",
       "    }\n",
       "</style>\n",
       "<table border=\"1\" class=\"dataframe\">\n",
       "  <thead>\n",
       "    <tr style=\"text-align: right;\">\n",
       "      <th></th>\n",
       "      <th>Latitude</th>\n",
       "      <th>Longitude</th>\n",
       "    </tr>\n",
       "    <tr>\n",
       "      <th>Postcode</th>\n",
       "      <th></th>\n",
       "      <th></th>\n",
       "    </tr>\n",
       "  </thead>\n",
       "  <tbody>\n",
       "    <tr>\n",
       "      <th>M1B</th>\n",
       "      <td>43.806686</td>\n",
       "      <td>-79.194353</td>\n",
       "    </tr>\n",
       "    <tr>\n",
       "      <th>M1C</th>\n",
       "      <td>43.784535</td>\n",
       "      <td>-79.160497</td>\n",
       "    </tr>\n",
       "    <tr>\n",
       "      <th>M1E</th>\n",
       "      <td>43.763573</td>\n",
       "      <td>-79.188711</td>\n",
       "    </tr>\n",
       "    <tr>\n",
       "      <th>M1G</th>\n",
       "      <td>43.770992</td>\n",
       "      <td>-79.216917</td>\n",
       "    </tr>\n",
       "    <tr>\n",
       "      <th>M1H</th>\n",
       "      <td>43.773136</td>\n",
       "      <td>-79.239476</td>\n",
       "    </tr>\n",
       "  </tbody>\n",
       "</table>\n",
       "</div>"
      ],
      "text/plain": [
       "           Latitude  Longitude\n",
       "Postcode                      \n",
       "M1B       43.806686 -79.194353\n",
       "M1C       43.784535 -79.160497\n",
       "M1E       43.763573 -79.188711\n",
       "M1G       43.770992 -79.216917\n",
       "M1H       43.773136 -79.239476"
      ]
     },
     "execution_count": 14,
     "metadata": {},
     "output_type": "execute_result"
    }
   ],
   "source": [
    "#Get data lat/long data from csv\n",
    "lat_long_coord_df = pd.read_csv(\"http://cocl.us/Geospatial_data\")\n",
    "\n",
    "#rename columns and set the index to be Postcode\n",
    "lat_long_coord_df.columns = [\"Postcode\", \"Latitude\", \"Longitude\"]\n",
    "if(lat_long_coord_df.index.name != 'Postcode'):\n",
    "    lat_long_coord_df = lat_long_coord_df.set_index('Postcode')\n",
    "    \n",
    "lat_long_coord_df.head()"
   ]
  },
  {
   "cell_type": "code",
   "execution_count": 15,
   "metadata": {},
   "outputs": [
    {
     "data": {
      "text/html": [
       "<div>\n",
       "<style scoped>\n",
       "    .dataframe tbody tr th:only-of-type {\n",
       "        vertical-align: middle;\n",
       "    }\n",
       "\n",
       "    .dataframe tbody tr th {\n",
       "        vertical-align: top;\n",
       "    }\n",
       "\n",
       "    .dataframe thead th {\n",
       "        text-align: right;\n",
       "    }\n",
       "</style>\n",
       "<table border=\"1\" class=\"dataframe\">\n",
       "  <thead>\n",
       "    <tr style=\"text-align: right;\">\n",
       "      <th></th>\n",
       "      <th>Borough</th>\n",
       "      <th>Neighbourhood</th>\n",
       "      <th>Latitude</th>\n",
       "      <th>Longitude</th>\n",
       "    </tr>\n",
       "    <tr>\n",
       "      <th>Postcode</th>\n",
       "      <th></th>\n",
       "      <th></th>\n",
       "      <th></th>\n",
       "      <th></th>\n",
       "    </tr>\n",
       "  </thead>\n",
       "  <tbody>\n",
       "    <tr>\n",
       "      <th>M3A</th>\n",
       "      <td>North York</td>\n",
       "      <td>Parkwoods</td>\n",
       "      <td>43.753259</td>\n",
       "      <td>-79.329656</td>\n",
       "    </tr>\n",
       "    <tr>\n",
       "      <th>M4A</th>\n",
       "      <td>North York</td>\n",
       "      <td>Victoria Village</td>\n",
       "      <td>43.725882</td>\n",
       "      <td>-79.315572</td>\n",
       "    </tr>\n",
       "    <tr>\n",
       "      <th>M5A</th>\n",
       "      <td>Downtown Toronto</td>\n",
       "      <td>Harbourfront, Regent Park</td>\n",
       "      <td>43.654260</td>\n",
       "      <td>-79.360636</td>\n",
       "    </tr>\n",
       "    <tr>\n",
       "      <th>M6A</th>\n",
       "      <td>North York</td>\n",
       "      <td>Lawrence Heights, Lawrence Manor</td>\n",
       "      <td>43.718518</td>\n",
       "      <td>-79.464763</td>\n",
       "    </tr>\n",
       "    <tr>\n",
       "      <th>M7A</th>\n",
       "      <td>Queen's Park</td>\n",
       "      <td>Queen's Park</td>\n",
       "      <td>43.662301</td>\n",
       "      <td>-79.389494</td>\n",
       "    </tr>\n",
       "    <tr>\n",
       "      <th>M9A</th>\n",
       "      <td>Etobicoke</td>\n",
       "      <td>Islington Avenue</td>\n",
       "      <td>43.667856</td>\n",
       "      <td>-79.532242</td>\n",
       "    </tr>\n",
       "    <tr>\n",
       "      <th>M1B</th>\n",
       "      <td>Scarborough</td>\n",
       "      <td>Rouge, Malvern</td>\n",
       "      <td>43.806686</td>\n",
       "      <td>-79.194353</td>\n",
       "    </tr>\n",
       "    <tr>\n",
       "      <th>M3B</th>\n",
       "      <td>North York</td>\n",
       "      <td>Don Mills North</td>\n",
       "      <td>43.745906</td>\n",
       "      <td>-79.352188</td>\n",
       "    </tr>\n",
       "    <tr>\n",
       "      <th>M4B</th>\n",
       "      <td>East York</td>\n",
       "      <td>Woodbine Gardens, Parkview Hill</td>\n",
       "      <td>43.706397</td>\n",
       "      <td>-79.309937</td>\n",
       "    </tr>\n",
       "    <tr>\n",
       "      <th>M5B</th>\n",
       "      <td>Downtown Toronto</td>\n",
       "      <td>Ryerson, Garden District</td>\n",
       "      <td>43.657162</td>\n",
       "      <td>-79.378937</td>\n",
       "    </tr>\n",
       "    <tr>\n",
       "      <th>M6B</th>\n",
       "      <td>North York</td>\n",
       "      <td>Glencairn</td>\n",
       "      <td>43.709577</td>\n",
       "      <td>-79.445073</td>\n",
       "    </tr>\n",
       "  </tbody>\n",
       "</table>\n",
       "</div>"
      ],
      "text/plain": [
       "                   Borough                     Neighbourhood   Latitude  \\\n",
       "Postcode                                                                  \n",
       "M3A             North York                         Parkwoods  43.753259   \n",
       "M4A             North York                  Victoria Village  43.725882   \n",
       "M5A       Downtown Toronto         Harbourfront, Regent Park  43.654260   \n",
       "M6A             North York  Lawrence Heights, Lawrence Manor  43.718518   \n",
       "M7A           Queen's Park                      Queen's Park  43.662301   \n",
       "M9A              Etobicoke                  Islington Avenue  43.667856   \n",
       "M1B            Scarborough                    Rouge, Malvern  43.806686   \n",
       "M3B             North York                   Don Mills North  43.745906   \n",
       "M4B              East York   Woodbine Gardens, Parkview Hill  43.706397   \n",
       "M5B       Downtown Toronto          Ryerson, Garden District  43.657162   \n",
       "M6B             North York                         Glencairn  43.709577   \n",
       "\n",
       "          Longitude  \n",
       "Postcode             \n",
       "M3A      -79.329656  \n",
       "M4A      -79.315572  \n",
       "M5A      -79.360636  \n",
       "M6A      -79.464763  \n",
       "M7A      -79.389494  \n",
       "M9A      -79.532242  \n",
       "M1B      -79.194353  \n",
       "M3B      -79.352188  \n",
       "M4B      -79.309937  \n",
       "M5B      -79.378937  \n",
       "M6B      -79.445073  "
      ]
     },
     "execution_count": 15,
     "metadata": {},
     "output_type": "execute_result"
    }
   ],
   "source": [
    "canada_df = canada_df.join(lat_long_coord_df)\n",
    "canada_df.head(11)"
   ]
  },
  {
   "cell_type": "markdown",
   "metadata": {},
   "source": [
    "<h2> Step 3 - Explore and Cluster Data </h2>\n",
    "<p>Explore and cluster the neighborhoods in Toronto and generate map to visualize the neighborhoods and how they are clustered together</p>\n",
    "<ol>\n",
    "    <li> Filter Canada data to only use boroughs in Toronto</li>\n",
    "    <li> Show an initial map of the neighborhoods in Toronto </li>\n",
    "    <li> Utilizing the Foursquare API to explore the neighborhoods and segment them. </li>\n",
    "</ol>\n"
   ]
  },
  {
   "cell_type": "code",
   "execution_count": 16,
   "metadata": {},
   "outputs": [
    {
     "name": "stdout",
     "output_type": "stream",
     "text": [
      "Libraries imported.\n"
     ]
    }
   ],
   "source": [
    "import numpy as np # library to handle data in a vectorized manner\n",
    "\n",
    "import pandas as pd # library for data analsysis\n",
    "pd.set_option('display.max_columns', None)\n",
    "pd.set_option('display.max_rows', None)\n",
    "\n",
    "import json # library to handle JSON files\n",
    "\n",
    "#!conda install -c conda-forge geopy --yes # uncomment this line if you haven't completed the Foursquare API lab\n",
    "from geopy.geocoders import Nominatim # convert an address into latitude and longitude values\n",
    "\n",
    "import requests # library to handle requests\n",
    "from pandas.io.json import json_normalize # tranform JSON file into a pandas dataframe\n",
    "\n",
    "# Matplotlib and associated plotting modules\n",
    "import matplotlib.cm as cm\n",
    "import matplotlib.colors as colors\n",
    "\n",
    "# import k-means from clustering stage\n",
    "from sklearn.cluster import KMeans\n",
    "\n",
    "#!conda install -c conda-forge folium=0.5.0 --yes # uncomment this line if you haven't completed the Foursquare API lab\n",
    "import folium # map rendering library\n",
    "\n",
    "print('Libraries imported.')"
   ]
  },
  {
   "cell_type": "markdown",
   "metadata": {},
   "source": [
    "<h3> Step 3A - Get Toronto Data </h3>"
   ]
  },
  {
   "cell_type": "code",
   "execution_count": 17,
   "metadata": {},
   "outputs": [
    {
     "data": {
      "text/html": [
       "<div>\n",
       "<style scoped>\n",
       "    .dataframe tbody tr th:only-of-type {\n",
       "        vertical-align: middle;\n",
       "    }\n",
       "\n",
       "    .dataframe tbody tr th {\n",
       "        vertical-align: top;\n",
       "    }\n",
       "\n",
       "    .dataframe thead th {\n",
       "        text-align: right;\n",
       "    }\n",
       "</style>\n",
       "<table border=\"1\" class=\"dataframe\">\n",
       "  <thead>\n",
       "    <tr style=\"text-align: right;\">\n",
       "      <th></th>\n",
       "      <th>Borough</th>\n",
       "      <th>Neighbourhood</th>\n",
       "      <th>Latitude</th>\n",
       "      <th>Longitude</th>\n",
       "    </tr>\n",
       "    <tr>\n",
       "      <th>Postcode</th>\n",
       "      <th></th>\n",
       "      <th></th>\n",
       "      <th></th>\n",
       "      <th></th>\n",
       "    </tr>\n",
       "  </thead>\n",
       "  <tbody>\n",
       "    <tr>\n",
       "      <th>M5A</th>\n",
       "      <td>Downtown Toronto</td>\n",
       "      <td>Harbourfront, Regent Park</td>\n",
       "      <td>43.654260</td>\n",
       "      <td>-79.360636</td>\n",
       "    </tr>\n",
       "    <tr>\n",
       "      <th>M5B</th>\n",
       "      <td>Downtown Toronto</td>\n",
       "      <td>Ryerson, Garden District</td>\n",
       "      <td>43.657162</td>\n",
       "      <td>-79.378937</td>\n",
       "    </tr>\n",
       "    <tr>\n",
       "      <th>M5C</th>\n",
       "      <td>Downtown Toronto</td>\n",
       "      <td>St. James Town</td>\n",
       "      <td>43.651494</td>\n",
       "      <td>-79.375418</td>\n",
       "    </tr>\n",
       "    <tr>\n",
       "      <th>M4E</th>\n",
       "      <td>East Toronto</td>\n",
       "      <td>The Beaches</td>\n",
       "      <td>43.676357</td>\n",
       "      <td>-79.293031</td>\n",
       "    </tr>\n",
       "    <tr>\n",
       "      <th>M5E</th>\n",
       "      <td>Downtown Toronto</td>\n",
       "      <td>Berczy Park</td>\n",
       "      <td>43.644771</td>\n",
       "      <td>-79.373306</td>\n",
       "    </tr>\n",
       "  </tbody>\n",
       "</table>\n",
       "</div>"
      ],
      "text/plain": [
       "                   Borough              Neighbourhood   Latitude  Longitude\n",
       "Postcode                                                                   \n",
       "M5A       Downtown Toronto  Harbourfront, Regent Park  43.654260 -79.360636\n",
       "M5B       Downtown Toronto   Ryerson, Garden District  43.657162 -79.378937\n",
       "M5C       Downtown Toronto             St. James Town  43.651494 -79.375418\n",
       "M4E           East Toronto                The Beaches  43.676357 -79.293031\n",
       "M5E       Downtown Toronto                Berczy Park  43.644771 -79.373306"
      ]
     },
     "execution_count": 17,
     "metadata": {},
     "output_type": "execute_result"
    }
   ],
   "source": [
    "#Filter Canada data to only use boroughs in Toronto\n",
    "toronto_df = canada_df[canada_df['Borough'].str.contains('Toronto')]\n",
    "toronto_df.head()"
   ]
  },
  {
   "cell_type": "markdown",
   "metadata": {},
   "source": [
    "<h3> Step 3B - Generate Map </h3>\n",
    "<p> Generate a map of neighborhoods in Toronto. </p>"
   ]
  },
  {
   "cell_type": "code",
   "execution_count": 18,
   "metadata": {},
   "outputs": [
    {
     "data": {
      "text/html": [
       "<div style=\"width:100%;\"><div style=\"position:relative;width:100%;height:0;padding-bottom:60%;\"><iframe src=\"data:text/html;charset=utf-8;base64,PCFET0NUWVBFIGh0bWw+CjxoZWFkPiAgICAKICAgIDxtZXRhIGh0dHAtZXF1aXY9ImNvbnRlbnQtdHlwZSIgY29udGVudD0idGV4dC9odG1sOyBjaGFyc2V0PVVURi04IiAvPgogICAgCiAgICAgICAgPHNjcmlwdD4KICAgICAgICAgICAgTF9OT19UT1VDSCA9IGZhbHNlOwogICAgICAgICAgICBMX0RJU0FCTEVfM0QgPSBmYWxzZTsKICAgICAgICA8L3NjcmlwdD4KICAgIAogICAgPHNjcmlwdCBzcmM9Imh0dHBzOi8vY2RuLmpzZGVsaXZyLm5ldC9ucG0vbGVhZmxldEAxLjQuMC9kaXN0L2xlYWZsZXQuanMiPjwvc2NyaXB0PgogICAgPHNjcmlwdCBzcmM9Imh0dHBzOi8vY29kZS5qcXVlcnkuY29tL2pxdWVyeS0xLjEyLjQubWluLmpzIj48L3NjcmlwdD4KICAgIDxzY3JpcHQgc3JjPSJodHRwczovL21heGNkbi5ib290c3RyYXBjZG4uY29tL2Jvb3RzdHJhcC8zLjIuMC9qcy9ib290c3RyYXAubWluLmpzIj48L3NjcmlwdD4KICAgIDxzY3JpcHQgc3JjPSJodHRwczovL2NkbmpzLmNsb3VkZmxhcmUuY29tL2FqYXgvbGlicy9MZWFmbGV0LmF3ZXNvbWUtbWFya2Vycy8yLjAuMi9sZWFmbGV0LmF3ZXNvbWUtbWFya2Vycy5qcyI+PC9zY3JpcHQ+CiAgICA8bGluayByZWw9InN0eWxlc2hlZXQiIGhyZWY9Imh0dHBzOi8vY2RuLmpzZGVsaXZyLm5ldC9ucG0vbGVhZmxldEAxLjQuMC9kaXN0L2xlYWZsZXQuY3NzIi8+CiAgICA8bGluayByZWw9InN0eWxlc2hlZXQiIGhyZWY9Imh0dHBzOi8vbWF4Y2RuLmJvb3RzdHJhcGNkbi5jb20vYm9vdHN0cmFwLzMuMi4wL2Nzcy9ib290c3RyYXAubWluLmNzcyIvPgogICAgPGxpbmsgcmVsPSJzdHlsZXNoZWV0IiBocmVmPSJodHRwczovL21heGNkbi5ib290c3RyYXBjZG4uY29tL2Jvb3RzdHJhcC8zLjIuMC9jc3MvYm9vdHN0cmFwLXRoZW1lLm1pbi5jc3MiLz4KICAgIDxsaW5rIHJlbD0ic3R5bGVzaGVldCIgaHJlZj0iaHR0cHM6Ly9tYXhjZG4uYm9vdHN0cmFwY2RuLmNvbS9mb250LWF3ZXNvbWUvNC42LjMvY3NzL2ZvbnQtYXdlc29tZS5taW4uY3NzIi8+CiAgICA8bGluayByZWw9InN0eWxlc2hlZXQiIGhyZWY9Imh0dHBzOi8vY2RuanMuY2xvdWRmbGFyZS5jb20vYWpheC9saWJzL0xlYWZsZXQuYXdlc29tZS1tYXJrZXJzLzIuMC4yL2xlYWZsZXQuYXdlc29tZS1tYXJrZXJzLmNzcyIvPgogICAgPGxpbmsgcmVsPSJzdHlsZXNoZWV0IiBocmVmPSJodHRwczovL3Jhd2Nkbi5naXRoYWNrLmNvbS9weXRob24tdmlzdWFsaXphdGlvbi9mb2xpdW0vbWFzdGVyL2ZvbGl1bS90ZW1wbGF0ZXMvbGVhZmxldC5hd2Vzb21lLnJvdGF0ZS5jc3MiLz4KICAgIDxzdHlsZT5odG1sLCBib2R5IHt3aWR0aDogMTAwJTtoZWlnaHQ6IDEwMCU7bWFyZ2luOiAwO3BhZGRpbmc6IDA7fTwvc3R5bGU+CiAgICA8c3R5bGU+I21hcCB7cG9zaXRpb246YWJzb2x1dGU7dG9wOjA7Ym90dG9tOjA7cmlnaHQ6MDtsZWZ0OjA7fTwvc3R5bGU+CiAgICAKICAgICAgICAgICAgPG1ldGEgbmFtZT0idmlld3BvcnQiIGNvbnRlbnQ9IndpZHRoPWRldmljZS13aWR0aCwKICAgICAgICAgICAgICAgIGluaXRpYWwtc2NhbGU9MS4wLCBtYXhpbXVtLXNjYWxlPTEuMCwgdXNlci1zY2FsYWJsZT1ubyIgLz4KICAgICAgICAgICAgPHN0eWxlPgogICAgICAgICAgICAgICAgI21hcF9lYWQ3NDkyOWVhNTc0MTRiOTUxN2VkNWQ0NWJiYTdiOSB7CiAgICAgICAgICAgICAgICAgICAgcG9zaXRpb246IHJlbGF0aXZlOwogICAgICAgICAgICAgICAgICAgIHdpZHRoOiAxMDAuMCU7CiAgICAgICAgICAgICAgICAgICAgaGVpZ2h0OiAxMDAuMCU7CiAgICAgICAgICAgICAgICAgICAgbGVmdDogMC4wJTsKICAgICAgICAgICAgICAgICAgICB0b3A6IDAuMCU7CiAgICAgICAgICAgICAgICB9CiAgICAgICAgICAgIDwvc3R5bGU+CiAgICAgICAgCjwvaGVhZD4KPGJvZHk+ICAgIAogICAgCiAgICAgICAgICAgIDxkaXYgY2xhc3M9ImZvbGl1bS1tYXAiIGlkPSJtYXBfZWFkNzQ5MjllYTU3NDE0Yjk1MTdlZDVkNDViYmE3YjkiID48L2Rpdj4KICAgICAgICAKPC9ib2R5Pgo8c2NyaXB0PiAgICAKICAgIAogICAgICAgICAgICB2YXIgbWFwX2VhZDc0OTI5ZWE1NzQxNGI5NTE3ZWQ1ZDQ1YmJhN2I5ID0gTC5tYXAoCiAgICAgICAgICAgICAgICAibWFwX2VhZDc0OTI5ZWE1NzQxNGI5NTE3ZWQ1ZDQ1YmJhN2I5IiwKICAgICAgICAgICAgICAgIHsKICAgICAgICAgICAgICAgICAgICBjZW50ZXI6IFs0My42NTQyNTk5LCAtNzkuMzYwNjM1OV0sCiAgICAgICAgICAgICAgICAgICAgY3JzOiBMLkNSUy5FUFNHMzg1NywKICAgICAgICAgICAgICAgICAgICB6b29tOiAxMCwKICAgICAgICAgICAgICAgICAgICB6b29tQ29udHJvbDogdHJ1ZSwKICAgICAgICAgICAgICAgICAgICBwcmVmZXJDYW52YXM6IGZhbHNlLAogICAgICAgICAgICAgICAgfQogICAgICAgICAgICApOwoKICAgICAgICAgICAgCgogICAgICAgIAogICAgCiAgICAgICAgICAgIHZhciB0aWxlX2xheWVyXzMyNTdkNzAyOGU5ZjRhODNiNjBkODg5MjA1OGRiZTMxID0gTC50aWxlTGF5ZXIoCiAgICAgICAgICAgICAgICAiaHR0cHM6Ly97c30udGlsZS5vcGVuc3RyZWV0bWFwLm9yZy97en0ve3h9L3t5fS5wbmciLAogICAgICAgICAgICAgICAgeyJhdHRyaWJ1dGlvbiI6ICJEYXRhIGJ5IFx1MDAyNmNvcHk7IFx1MDAzY2EgaHJlZj1cImh0dHA6Ly9vcGVuc3RyZWV0bWFwLm9yZ1wiXHUwMDNlT3BlblN0cmVldE1hcFx1MDAzYy9hXHUwMDNlLCB1bmRlciBcdTAwM2NhIGhyZWY9XCJodHRwOi8vd3d3Lm9wZW5zdHJlZXRtYXAub3JnL2NvcHlyaWdodFwiXHUwMDNlT0RiTFx1MDAzYy9hXHUwMDNlLiIsICJkZXRlY3RSZXRpbmEiOiBmYWxzZSwgIm1heE5hdGl2ZVpvb20iOiAxOCwgIm1heFpvb20iOiAxOCwgIm1pblpvb20iOiAwLCAibm9XcmFwIjogZmFsc2UsICJvcGFjaXR5IjogMSwgInN1YmRvbWFpbnMiOiAiYWJjIiwgInRtcyI6IGZhbHNlfQogICAgICAgICAgICApLmFkZFRvKG1hcF9lYWQ3NDkyOWVhNTc0MTRiOTUxN2VkNWQ0NWJiYTdiOSk7CiAgICAgICAgCiAgICAKICAgICAgICAgICAgdmFyIGNpcmNsZV9tYXJrZXJfNjcxMzAwNDU4NzRhNGE1ZDlkODM4Y2YzOWRiOTdlNjEgPSBMLmNpcmNsZU1hcmtlcigKICAgICAgICAgICAgICAgIFs0My42NTQyNTk5LCAtNzkuMzYwNjM1OV0sCiAgICAgICAgICAgICAgICB7ImJ1YmJsaW5nTW91c2VFdmVudHMiOiB0cnVlLCAiY29sb3IiOiAiYmx1ZSIsICJkYXNoQXJyYXkiOiBudWxsLCAiZGFzaE9mZnNldCI6IG51bGwsICJmaWxsIjogdHJ1ZSwgImZpbGxDb2xvciI6ICIjMzE4NmNjIiwgImZpbGxPcGFjaXR5IjogMC43LCAiZmlsbFJ1bGUiOiAiZXZlbm9kZCIsICJsaW5lQ2FwIjogInJvdW5kIiwgImxpbmVKb2luIjogInJvdW5kIiwgIm9wYWNpdHkiOiAxLjAsICJyYWRpdXMiOiA1LCAic3Ryb2tlIjogdHJ1ZSwgIndlaWdodCI6IDN9CiAgICAgICAgICAgICkuYWRkVG8obWFwX2VhZDc0OTI5ZWE1NzQxNGI5NTE3ZWQ1ZDQ1YmJhN2I5KTsKICAgICAgICAKICAgIAogICAgICAgIHZhciBwb3B1cF8zMmNiMjBlODk1YWU0MTY5YjkxNGY3NDY3ZTg4ZWRkZSA9IEwucG9wdXAoeyJtYXhXaWR0aCI6ICIxMDAlIn0pOwoKICAgICAgICAKICAgICAgICAgICAgdmFyIGh0bWxfMzU1NGU2ODdjM2Y2NDg1M2E3YTMwM2Y3MWU1YjRiYjUgPSAkKGA8ZGl2IGlkPSJodG1sXzM1NTRlNjg3YzNmNjQ4NTNhN2EzMDNmNzFlNWI0YmI1IiBzdHlsZT0id2lkdGg6IDEwMC4wJTsgaGVpZ2h0OiAxMDAuMCU7Ij5IYXJib3VyZnJvbnQsIFJlZ2VudCBQYXJrLCBEb3dudG93biBUb3JvbnRvPC9kaXY+YClbMF07CiAgICAgICAgICAgIHBvcHVwXzMyY2IyMGU4OTVhZTQxNjliOTE0Zjc0NjdlODhlZGRlLnNldENvbnRlbnQoaHRtbF8zNTU0ZTY4N2MzZjY0ODUzYTdhMzAzZjcxZTViNGJiNSk7CiAgICAgICAgCgogICAgICAgIGNpcmNsZV9tYXJrZXJfNjcxMzAwNDU4NzRhNGE1ZDlkODM4Y2YzOWRiOTdlNjEuYmluZFBvcHVwKHBvcHVwXzMyY2IyMGU4OTVhZTQxNjliOTE0Zjc0NjdlODhlZGRlKQogICAgICAgIDsKCiAgICAgICAgCiAgICAKICAgIAogICAgICAgICAgICB2YXIgY2lyY2xlX21hcmtlcl85MzhlMDBjZmQ0OGQ0YmI4YjExZDg3MjEyNjhkMjc1OSA9IEwuY2lyY2xlTWFya2VyKAogICAgICAgICAgICAgICAgWzQzLjY1NzE2MTgsIC03OS4zNzg5MzcwOTk5OTk5OV0sCiAgICAgICAgICAgICAgICB7ImJ1YmJsaW5nTW91c2VFdmVudHMiOiB0cnVlLCAiY29sb3IiOiAiYmx1ZSIsICJkYXNoQXJyYXkiOiBudWxsLCAiZGFzaE9mZnNldCI6IG51bGwsICJmaWxsIjogdHJ1ZSwgImZpbGxDb2xvciI6ICIjMzE4NmNjIiwgImZpbGxPcGFjaXR5IjogMC43LCAiZmlsbFJ1bGUiOiAiZXZlbm9kZCIsICJsaW5lQ2FwIjogInJvdW5kIiwgImxpbmVKb2luIjogInJvdW5kIiwgIm9wYWNpdHkiOiAxLjAsICJyYWRpdXMiOiA1LCAic3Ryb2tlIjogdHJ1ZSwgIndlaWdodCI6IDN9CiAgICAgICAgICAgICkuYWRkVG8obWFwX2VhZDc0OTI5ZWE1NzQxNGI5NTE3ZWQ1ZDQ1YmJhN2I5KTsKICAgICAgICAKICAgIAogICAgICAgIHZhciBwb3B1cF9iMWU1NGM0NjYzMWQ0MzAwYmIzNmZjOTBjYWJhYjM2OCA9IEwucG9wdXAoeyJtYXhXaWR0aCI6ICIxMDAlIn0pOwoKICAgICAgICAKICAgICAgICAgICAgdmFyIGh0bWxfNjc5ZGRjZjI1MjE4NGY5ZjllNTU4YTczMWNjNDdiNzUgPSAkKGA8ZGl2IGlkPSJodG1sXzY3OWRkY2YyNTIxODRmOWY5ZTU1OGE3MzFjYzQ3Yjc1IiBzdHlsZT0id2lkdGg6IDEwMC4wJTsgaGVpZ2h0OiAxMDAuMCU7Ij5SeWVyc29uLCBHYXJkZW4gRGlzdHJpY3QsIERvd250b3duIFRvcm9udG88L2Rpdj5gKVswXTsKICAgICAgICAgICAgcG9wdXBfYjFlNTRjNDY2MzFkNDMwMGJiMzZmYzkwY2FiYWIzNjguc2V0Q29udGVudChodG1sXzY3OWRkY2YyNTIxODRmOWY5ZTU1OGE3MzFjYzQ3Yjc1KTsKICAgICAgICAKCiAgICAgICAgY2lyY2xlX21hcmtlcl85MzhlMDBjZmQ0OGQ0YmI4YjExZDg3MjEyNjhkMjc1OS5iaW5kUG9wdXAocG9wdXBfYjFlNTRjNDY2MzFkNDMwMGJiMzZmYzkwY2FiYWIzNjgpCiAgICAgICAgOwoKICAgICAgICAKICAgIAogICAgCiAgICAgICAgICAgIHZhciBjaXJjbGVfbWFya2VyXzA4MWE1NmYxMjFkODQ3MDI5MjM3NDdlMDFiMTlkNDZiID0gTC5jaXJjbGVNYXJrZXIoCiAgICAgICAgICAgICAgICBbNDMuNjUxNDkzOSwgLTc5LjM3NTQxNzldLAogICAgICAgICAgICAgICAgeyJidWJibGluZ01vdXNlRXZlbnRzIjogdHJ1ZSwgImNvbG9yIjogImJsdWUiLCAiZGFzaEFycmF5IjogbnVsbCwgImRhc2hPZmZzZXQiOiBudWxsLCAiZmlsbCI6IHRydWUsICJmaWxsQ29sb3IiOiAiIzMxODZjYyIsICJmaWxsT3BhY2l0eSI6IDAuNywgImZpbGxSdWxlIjogImV2ZW5vZGQiLCAibGluZUNhcCI6ICJyb3VuZCIsICJsaW5lSm9pbiI6ICJyb3VuZCIsICJvcGFjaXR5IjogMS4wLCAicmFkaXVzIjogNSwgInN0cm9rZSI6IHRydWUsICJ3ZWlnaHQiOiAzfQogICAgICAgICAgICApLmFkZFRvKG1hcF9lYWQ3NDkyOWVhNTc0MTRiOTUxN2VkNWQ0NWJiYTdiOSk7CiAgICAgICAgCiAgICAKICAgICAgICB2YXIgcG9wdXBfZTQzMmUxYWU3MWUyNDFmNThkNzI2NWFmM2JhNzMwMzggPSBMLnBvcHVwKHsibWF4V2lkdGgiOiAiMTAwJSJ9KTsKCiAgICAgICAgCiAgICAgICAgICAgIHZhciBodG1sX2UzMjYzNGE2Yjk4MzRlOWY4Y2M3YTVlMTlhOTg0ODU2ID0gJChgPGRpdiBpZD0iaHRtbF9lMzI2MzRhNmI5ODM0ZTlmOGNjN2E1ZTE5YTk4NDg1NiIgc3R5bGU9IndpZHRoOiAxMDAuMCU7IGhlaWdodDogMTAwLjAlOyI+U3QuIEphbWVzIFRvd24sIERvd250b3duIFRvcm9udG88L2Rpdj5gKVswXTsKICAgICAgICAgICAgcG9wdXBfZTQzMmUxYWU3MWUyNDFmNThkNzI2NWFmM2JhNzMwMzguc2V0Q29udGVudChodG1sX2UzMjYzNGE2Yjk4MzRlOWY4Y2M3YTVlMTlhOTg0ODU2KTsKICAgICAgICAKCiAgICAgICAgY2lyY2xlX21hcmtlcl8wODFhNTZmMTIxZDg0NzAyOTIzNzQ3ZTAxYjE5ZDQ2Yi5iaW5kUG9wdXAocG9wdXBfZTQzMmUxYWU3MWUyNDFmNThkNzI2NWFmM2JhNzMwMzgpCiAgICAgICAgOwoKICAgICAgICAKICAgIAogICAgCiAgICAgICAgICAgIHZhciBjaXJjbGVfbWFya2VyXzc3ZDA4YjhjZWYxMzRjYTJhNmI4MzE0OTQzN2JmZWIxID0gTC5jaXJjbGVNYXJrZXIoCiAgICAgICAgICAgICAgICBbNDMuNjc2MzU3Mzk5OTk5OTksIC03OS4yOTMwMzEyXSwKICAgICAgICAgICAgICAgIHsiYnViYmxpbmdNb3VzZUV2ZW50cyI6IHRydWUsICJjb2xvciI6ICJibHVlIiwgImRhc2hBcnJheSI6IG51bGwsICJkYXNoT2Zmc2V0IjogbnVsbCwgImZpbGwiOiB0cnVlLCAiZmlsbENvbG9yIjogIiMzMTg2Y2MiLCAiZmlsbE9wYWNpdHkiOiAwLjcsICJmaWxsUnVsZSI6ICJldmVub2RkIiwgImxpbmVDYXAiOiAicm91bmQiLCAibGluZUpvaW4iOiAicm91bmQiLCAib3BhY2l0eSI6IDEuMCwgInJhZGl1cyI6IDUsICJzdHJva2UiOiB0cnVlLCAid2VpZ2h0IjogM30KICAgICAgICAgICAgKS5hZGRUbyhtYXBfZWFkNzQ5MjllYTU3NDE0Yjk1MTdlZDVkNDViYmE3YjkpOwogICAgICAgIAogICAgCiAgICAgICAgdmFyIHBvcHVwXzU3YTI0OGM1ZTAxODRmYWNhMTgxZTI3NDU2MzRlZjkwID0gTC5wb3B1cCh7Im1heFdpZHRoIjogIjEwMCUifSk7CgogICAgICAgIAogICAgICAgICAgICB2YXIgaHRtbF9iZDY1Njc1NDgzYzY0ODBlYTY1ZDJjOTc0YzFjZjI0ZSA9ICQoYDxkaXYgaWQ9Imh0bWxfYmQ2NTY3NTQ4M2M2NDgwZWE2NWQyYzk3NGMxY2YyNGUiIHN0eWxlPSJ3aWR0aDogMTAwLjAlOyBoZWlnaHQ6IDEwMC4wJTsiPlRoZSBCZWFjaGVzLCBFYXN0IFRvcm9udG88L2Rpdj5gKVswXTsKICAgICAgICAgICAgcG9wdXBfNTdhMjQ4YzVlMDE4NGZhY2ExODFlMjc0NTYzNGVmOTAuc2V0Q29udGVudChodG1sX2JkNjU2NzU0ODNjNjQ4MGVhNjVkMmM5NzRjMWNmMjRlKTsKICAgICAgICAKCiAgICAgICAgY2lyY2xlX21hcmtlcl83N2QwOGI4Y2VmMTM0Y2EyYTZiODMxNDk0MzdiZmViMS5iaW5kUG9wdXAocG9wdXBfNTdhMjQ4YzVlMDE4NGZhY2ExODFlMjc0NTYzNGVmOTApCiAgICAgICAgOwoKICAgICAgICAKICAgIAogICAgCiAgICAgICAgICAgIHZhciBjaXJjbGVfbWFya2VyXzM0N2U1OGFiZGNlYzQ2ZWU4N2UzMjNmYWVmNmY2ZGJhID0gTC5jaXJjbGVNYXJrZXIoCiAgICAgICAgICAgICAgICBbNDMuNjQ0NzcwNzk5OTk5OTk2LCAtNzkuMzczMzA2NF0sCiAgICAgICAgICAgICAgICB7ImJ1YmJsaW5nTW91c2VFdmVudHMiOiB0cnVlLCAiY29sb3IiOiAiYmx1ZSIsICJkYXNoQXJyYXkiOiBudWxsLCAiZGFzaE9mZnNldCI6IG51bGwsICJmaWxsIjogdHJ1ZSwgImZpbGxDb2xvciI6ICIjMzE4NmNjIiwgImZpbGxPcGFjaXR5IjogMC43LCAiZmlsbFJ1bGUiOiAiZXZlbm9kZCIsICJsaW5lQ2FwIjogInJvdW5kIiwgImxpbmVKb2luIjogInJvdW5kIiwgIm9wYWNpdHkiOiAxLjAsICJyYWRpdXMiOiA1LCAic3Ryb2tlIjogdHJ1ZSwgIndlaWdodCI6IDN9CiAgICAgICAgICAgICkuYWRkVG8obWFwX2VhZDc0OTI5ZWE1NzQxNGI5NTE3ZWQ1ZDQ1YmJhN2I5KTsKICAgICAgICAKICAgIAogICAgICAgIHZhciBwb3B1cF83MTUxNzk5ZmEzMDU0YjkyOGQ1N2M5Y2UzNDVmYzg3YyA9IEwucG9wdXAoeyJtYXhXaWR0aCI6ICIxMDAlIn0pOwoKICAgICAgICAKICAgICAgICAgICAgdmFyIGh0bWxfYTdiNGQ1MTcyNGYzNDBhM2EzN2ZkMTU2ZTgxZDE0YmUgPSAkKGA8ZGl2IGlkPSJodG1sX2E3YjRkNTE3MjRmMzQwYTNhMzdmZDE1NmU4MWQxNGJlIiBzdHlsZT0id2lkdGg6IDEwMC4wJTsgaGVpZ2h0OiAxMDAuMCU7Ij5CZXJjenkgUGFyaywgRG93bnRvd24gVG9yb250bzwvZGl2PmApWzBdOwogICAgICAgICAgICBwb3B1cF83MTUxNzk5ZmEzMDU0YjkyOGQ1N2M5Y2UzNDVmYzg3Yy5zZXRDb250ZW50KGh0bWxfYTdiNGQ1MTcyNGYzNDBhM2EzN2ZkMTU2ZTgxZDE0YmUpOwogICAgICAgIAoKICAgICAgICBjaXJjbGVfbWFya2VyXzM0N2U1OGFiZGNlYzQ2ZWU4N2UzMjNmYWVmNmY2ZGJhLmJpbmRQb3B1cChwb3B1cF83MTUxNzk5ZmEzMDU0YjkyOGQ1N2M5Y2UzNDVmYzg3YykKICAgICAgICA7CgogICAgICAgIAogICAgCiAgICAKICAgICAgICAgICAgdmFyIGNpcmNsZV9tYXJrZXJfZjg0Mzg3NDY2NTljNDI4Yjk4ZGNiYWRlMjU4YmNmNjMgPSBMLmNpcmNsZU1hcmtlcigKICAgICAgICAgICAgICAgIFs0My42NTc5NTI0LCAtNzkuMzg3MzgyNl0sCiAgICAgICAgICAgICAgICB7ImJ1YmJsaW5nTW91c2VFdmVudHMiOiB0cnVlLCAiY29sb3IiOiAiYmx1ZSIsICJkYXNoQXJyYXkiOiBudWxsLCAiZGFzaE9mZnNldCI6IG51bGwsICJmaWxsIjogdHJ1ZSwgImZpbGxDb2xvciI6ICIjMzE4NmNjIiwgImZpbGxPcGFjaXR5IjogMC43LCAiZmlsbFJ1bGUiOiAiZXZlbm9kZCIsICJsaW5lQ2FwIjogInJvdW5kIiwgImxpbmVKb2luIjogInJvdW5kIiwgIm9wYWNpdHkiOiAxLjAsICJyYWRpdXMiOiA1LCAic3Ryb2tlIjogdHJ1ZSwgIndlaWdodCI6IDN9CiAgICAgICAgICAgICkuYWRkVG8obWFwX2VhZDc0OTI5ZWE1NzQxNGI5NTE3ZWQ1ZDQ1YmJhN2I5KTsKICAgICAgICAKICAgIAogICAgICAgIHZhciBwb3B1cF8xNzIwMzc1MjUzODA0OTkzOWM1MTllM2UzNWM2Y2Y4OSA9IEwucG9wdXAoeyJtYXhXaWR0aCI6ICIxMDAlIn0pOwoKICAgICAgICAKICAgICAgICAgICAgdmFyIGh0bWxfNjMxMWFjM2ZhYjZiNGQ5ODkzYzA5MGExZDJiNWM3ZTYgPSAkKGA8ZGl2IGlkPSJodG1sXzYzMTFhYzNmYWI2YjRkOTg5M2MwOTBhMWQyYjVjN2U2IiBzdHlsZT0id2lkdGg6IDEwMC4wJTsgaGVpZ2h0OiAxMDAuMCU7Ij5DZW50cmFsIEJheSBTdHJlZXQsIERvd250b3duIFRvcm9udG88L2Rpdj5gKVswXTsKICAgICAgICAgICAgcG9wdXBfMTcyMDM3NTI1MzgwNDk5MzljNTE5ZTNlMzVjNmNmODkuc2V0Q29udGVudChodG1sXzYzMTFhYzNmYWI2YjRkOTg5M2MwOTBhMWQyYjVjN2U2KTsKICAgICAgICAKCiAgICAgICAgY2lyY2xlX21hcmtlcl9mODQzODc0NjY1OWM0MjhiOThkY2JhZGUyNThiY2Y2My5iaW5kUG9wdXAocG9wdXBfMTcyMDM3NTI1MzgwNDk5MzljNTE5ZTNlMzVjNmNmODkpCiAgICAgICAgOwoKICAgICAgICAKICAgIAogICAgCiAgICAgICAgICAgIHZhciBjaXJjbGVfbWFya2VyX2QxYWExODRmMTczZTQzNjc4MjJjNmJjMDdiZGU0YWE5ID0gTC5jaXJjbGVNYXJrZXIoCiAgICAgICAgICAgICAgICBbNDMuNjY5NTQyLCAtNzkuNDIyNTYzN10sCiAgICAgICAgICAgICAgICB7ImJ1YmJsaW5nTW91c2VFdmVudHMiOiB0cnVlLCAiY29sb3IiOiAiYmx1ZSIsICJkYXNoQXJyYXkiOiBudWxsLCAiZGFzaE9mZnNldCI6IG51bGwsICJmaWxsIjogdHJ1ZSwgImZpbGxDb2xvciI6ICIjMzE4NmNjIiwgImZpbGxPcGFjaXR5IjogMC43LCAiZmlsbFJ1bGUiOiAiZXZlbm9kZCIsICJsaW5lQ2FwIjogInJvdW5kIiwgImxpbmVKb2luIjogInJvdW5kIiwgIm9wYWNpdHkiOiAxLjAsICJyYWRpdXMiOiA1LCAic3Ryb2tlIjogdHJ1ZSwgIndlaWdodCI6IDN9CiAgICAgICAgICAgICkuYWRkVG8obWFwX2VhZDc0OTI5ZWE1NzQxNGI5NTE3ZWQ1ZDQ1YmJhN2I5KTsKICAgICAgICAKICAgIAogICAgICAgIHZhciBwb3B1cF9mNjAxMzM4MmMzNzg0MGEyOTQ0ODQ1MDFlZjAwYzY2YiA9IEwucG9wdXAoeyJtYXhXaWR0aCI6ICIxMDAlIn0pOwoKICAgICAgICAKICAgICAgICAgICAgdmFyIGh0bWxfMGNjZmExMzgyNzAyNGM3NTg3N2MzNjIxMGQ0ZGI1MjEgPSAkKGA8ZGl2IGlkPSJodG1sXzBjY2ZhMTM4MjcwMjRjNzU4NzdjMzYyMTBkNGRiNTIxIiBzdHlsZT0id2lkdGg6IDEwMC4wJTsgaGVpZ2h0OiAxMDAuMCU7Ij5DaHJpc3RpZSwgRG93bnRvd24gVG9yb250bzwvZGl2PmApWzBdOwogICAgICAgICAgICBwb3B1cF9mNjAxMzM4MmMzNzg0MGEyOTQ0ODQ1MDFlZjAwYzY2Yi5zZXRDb250ZW50KGh0bWxfMGNjZmExMzgyNzAyNGM3NTg3N2MzNjIxMGQ0ZGI1MjEpOwogICAgICAgIAoKICAgICAgICBjaXJjbGVfbWFya2VyX2QxYWExODRmMTczZTQzNjc4MjJjNmJjMDdiZGU0YWE5LmJpbmRQb3B1cChwb3B1cF9mNjAxMzM4MmMzNzg0MGEyOTQ0ODQ1MDFlZjAwYzY2YikKICAgICAgICA7CgogICAgICAgIAogICAgCiAgICAKICAgICAgICAgICAgdmFyIGNpcmNsZV9tYXJrZXJfODEyYWMzM2E4MjExNDY4MTllY2NlMWQ3YzcyZTU1YzYgPSBMLmNpcmNsZU1hcmtlcigKICAgICAgICAgICAgICAgIFs0My42NTA1NzEyMDAwMDAwMSwgLTc5LjM4NDU2NzVdLAogICAgICAgICAgICAgICAgeyJidWJibGluZ01vdXNlRXZlbnRzIjogdHJ1ZSwgImNvbG9yIjogImJsdWUiLCAiZGFzaEFycmF5IjogbnVsbCwgImRhc2hPZmZzZXQiOiBudWxsLCAiZmlsbCI6IHRydWUsICJmaWxsQ29sb3IiOiAiIzMxODZjYyIsICJmaWxsT3BhY2l0eSI6IDAuNywgImZpbGxSdWxlIjogImV2ZW5vZGQiLCAibGluZUNhcCI6ICJyb3VuZCIsICJsaW5lSm9pbiI6ICJyb3VuZCIsICJvcGFjaXR5IjogMS4wLCAicmFkaXVzIjogNSwgInN0cm9rZSI6IHRydWUsICJ3ZWlnaHQiOiAzfQogICAgICAgICAgICApLmFkZFRvKG1hcF9lYWQ3NDkyOWVhNTc0MTRiOTUxN2VkNWQ0NWJiYTdiOSk7CiAgICAgICAgCiAgICAKICAgICAgICB2YXIgcG9wdXBfZTFhZDYxNWU1MGE0NGM3OGE1OTFmMjQ5YjVjZGQ3ODMgPSBMLnBvcHVwKHsibWF4V2lkdGgiOiAiMTAwJSJ9KTsKCiAgICAgICAgCiAgICAgICAgICAgIHZhciBodG1sXzk5MmZiODRiODc4NTRhOTdhMTA4ODQxMjM5M2I4YWZmID0gJChgPGRpdiBpZD0iaHRtbF85OTJmYjg0Yjg3ODU0YTk3YTEwODg0MTIzOTNiOGFmZiIgc3R5bGU9IndpZHRoOiAxMDAuMCU7IGhlaWdodDogMTAwLjAlOyI+QWRlbGFpZGUsIEtpbmcsIFJpY2htb25kLCBEb3dudG93biBUb3JvbnRvPC9kaXY+YClbMF07CiAgICAgICAgICAgIHBvcHVwX2UxYWQ2MTVlNTBhNDRjNzhhNTkxZjI0OWI1Y2RkNzgzLnNldENvbnRlbnQoaHRtbF85OTJmYjg0Yjg3ODU0YTk3YTEwODg0MTIzOTNiOGFmZik7CiAgICAgICAgCgogICAgICAgIGNpcmNsZV9tYXJrZXJfODEyYWMzM2E4MjExNDY4MTllY2NlMWQ3YzcyZTU1YzYuYmluZFBvcHVwKHBvcHVwX2UxYWQ2MTVlNTBhNDRjNzhhNTkxZjI0OWI1Y2RkNzgzKQogICAgICAgIDsKCiAgICAgICAgCiAgICAKICAgIAogICAgICAgICAgICB2YXIgY2lyY2xlX21hcmtlcl9jMWNlNTQwOTE3NGE0M2ZkODk0ZDRlNGJiMDhlNGRmNSA9IEwuY2lyY2xlTWFya2VyKAogICAgICAgICAgICAgICAgWzQzLjY2OTAwNTEwMDAwMDAxLCAtNzkuNDQyMjU5M10sCiAgICAgICAgICAgICAgICB7ImJ1YmJsaW5nTW91c2VFdmVudHMiOiB0cnVlLCAiY29sb3IiOiAiYmx1ZSIsICJkYXNoQXJyYXkiOiBudWxsLCAiZGFzaE9mZnNldCI6IG51bGwsICJmaWxsIjogdHJ1ZSwgImZpbGxDb2xvciI6ICIjMzE4NmNjIiwgImZpbGxPcGFjaXR5IjogMC43LCAiZmlsbFJ1bGUiOiAiZXZlbm9kZCIsICJsaW5lQ2FwIjogInJvdW5kIiwgImxpbmVKb2luIjogInJvdW5kIiwgIm9wYWNpdHkiOiAxLjAsICJyYWRpdXMiOiA1LCAic3Ryb2tlIjogdHJ1ZSwgIndlaWdodCI6IDN9CiAgICAgICAgICAgICkuYWRkVG8obWFwX2VhZDc0OTI5ZWE1NzQxNGI5NTE3ZWQ1ZDQ1YmJhN2I5KTsKICAgICAgICAKICAgIAogICAgICAgIHZhciBwb3B1cF9jZjg0YmUwMTZlMjI0NTFjYmU3ZGMwMGVmNDRkNjA3MSA9IEwucG9wdXAoeyJtYXhXaWR0aCI6ICIxMDAlIn0pOwoKICAgICAgICAKICAgICAgICAgICAgdmFyIGh0bWxfOTc2NjE4NTFhMzVmNDFkNDk4ZGY1ODc3N2Q4MDAyMGEgPSAkKGA8ZGl2IGlkPSJodG1sXzk3NjYxODUxYTM1ZjQxZDQ5OGRmNTg3NzdkODAwMjBhIiBzdHlsZT0id2lkdGg6IDEwMC4wJTsgaGVpZ2h0OiAxMDAuMCU7Ij5Eb3ZlcmNvdXJ0IFZpbGxhZ2UsIER1ZmZlcmluLCBXZXN0IFRvcm9udG88L2Rpdj5gKVswXTsKICAgICAgICAgICAgcG9wdXBfY2Y4NGJlMDE2ZTIyNDUxY2JlN2RjMDBlZjQ0ZDYwNzEuc2V0Q29udGVudChodG1sXzk3NjYxODUxYTM1ZjQxZDQ5OGRmNTg3NzdkODAwMjBhKTsKICAgICAgICAKCiAgICAgICAgY2lyY2xlX21hcmtlcl9jMWNlNTQwOTE3NGE0M2ZkODk0ZDRlNGJiMDhlNGRmNS5iaW5kUG9wdXAocG9wdXBfY2Y4NGJlMDE2ZTIyNDUxY2JlN2RjMDBlZjQ0ZDYwNzEpCiAgICAgICAgOwoKICAgICAgICAKICAgIAogICAgCiAgICAgICAgICAgIHZhciBjaXJjbGVfbWFya2VyXzgyNDgzMGMxZThlMjQyMWE4ZmRiMzM0ZjkwMWZjMmZjID0gTC5jaXJjbGVNYXJrZXIoCiAgICAgICAgICAgICAgICBbNDMuNjQwODE1NywgLTc5LjM4MTc1MjI5OTk5OTk5XSwKICAgICAgICAgICAgICAgIHsiYnViYmxpbmdNb3VzZUV2ZW50cyI6IHRydWUsICJjb2xvciI6ICJibHVlIiwgImRhc2hBcnJheSI6IG51bGwsICJkYXNoT2Zmc2V0IjogbnVsbCwgImZpbGwiOiB0cnVlLCAiZmlsbENvbG9yIjogIiMzMTg2Y2MiLCAiZmlsbE9wYWNpdHkiOiAwLjcsICJmaWxsUnVsZSI6ICJldmVub2RkIiwgImxpbmVDYXAiOiAicm91bmQiLCAibGluZUpvaW4iOiAicm91bmQiLCAib3BhY2l0eSI6IDEuMCwgInJhZGl1cyI6IDUsICJzdHJva2UiOiB0cnVlLCAid2VpZ2h0IjogM30KICAgICAgICAgICAgKS5hZGRUbyhtYXBfZWFkNzQ5MjllYTU3NDE0Yjk1MTdlZDVkNDViYmE3YjkpOwogICAgICAgIAogICAgCiAgICAgICAgdmFyIHBvcHVwX2Y5NDY0NTQ3ZjAzZDRhZjY4MDllMTgzN2JiM2NhZTY5ID0gTC5wb3B1cCh7Im1heFdpZHRoIjogIjEwMCUifSk7CgogICAgICAgIAogICAgICAgICAgICB2YXIgaHRtbF9lNDdlMDY5Y2NiMmE0YjJjODZmMDY4ODA0Njg2YWM3MiA9ICQoYDxkaXYgaWQ9Imh0bWxfZTQ3ZTA2OWNjYjJhNGIyYzg2ZjA2ODgwNDY4NmFjNzIiIHN0eWxlPSJ3aWR0aDogMTAwLjAlOyBoZWlnaHQ6IDEwMC4wJTsiPkhhcmJvdXJmcm9udCBFYXN0LCBUb3JvbnRvIElzbGFuZHMsIFVuaW9uIFN0YXRpb24sIERvd250b3duIFRvcm9udG88L2Rpdj5gKVswXTsKICAgICAgICAgICAgcG9wdXBfZjk0NjQ1NDdmMDNkNGFmNjgwOWUxODM3YmIzY2FlNjkuc2V0Q29udGVudChodG1sX2U0N2UwNjljY2IyYTRiMmM4NmYwNjg4MDQ2ODZhYzcyKTsKICAgICAgICAKCiAgICAgICAgY2lyY2xlX21hcmtlcl84MjQ4MzBjMWU4ZTI0MjFhOGZkYjMzNGY5MDFmYzJmYy5iaW5kUG9wdXAocG9wdXBfZjk0NjQ1NDdmMDNkNGFmNjgwOWUxODM3YmIzY2FlNjkpCiAgICAgICAgOwoKICAgICAgICAKICAgIAogICAgCiAgICAgICAgICAgIHZhciBjaXJjbGVfbWFya2VyXzIyYTQzZTFiNDE1NTRhZjdhOTIyN2RkY2VkNmNjMmRlID0gTC5jaXJjbGVNYXJrZXIoCiAgICAgICAgICAgICAgICBbNDMuNjQ3OTI2NzAwMDAwMDA2LCAtNzkuNDE5NzQ5N10sCiAgICAgICAgICAgICAgICB7ImJ1YmJsaW5nTW91c2VFdmVudHMiOiB0cnVlLCAiY29sb3IiOiAiYmx1ZSIsICJkYXNoQXJyYXkiOiBudWxsLCAiZGFzaE9mZnNldCI6IG51bGwsICJmaWxsIjogdHJ1ZSwgImZpbGxDb2xvciI6ICIjMzE4NmNjIiwgImZpbGxPcGFjaXR5IjogMC43LCAiZmlsbFJ1bGUiOiAiZXZlbm9kZCIsICJsaW5lQ2FwIjogInJvdW5kIiwgImxpbmVKb2luIjogInJvdW5kIiwgIm9wYWNpdHkiOiAxLjAsICJyYWRpdXMiOiA1LCAic3Ryb2tlIjogdHJ1ZSwgIndlaWdodCI6IDN9CiAgICAgICAgICAgICkuYWRkVG8obWFwX2VhZDc0OTI5ZWE1NzQxNGI5NTE3ZWQ1ZDQ1YmJhN2I5KTsKICAgICAgICAKICAgIAogICAgICAgIHZhciBwb3B1cF80ZmI2MzBmOWI3YmU0YmVjYjk3MjFkY2NkMzA0MzA4OCA9IEwucG9wdXAoeyJtYXhXaWR0aCI6ICIxMDAlIn0pOwoKICAgICAgICAKICAgICAgICAgICAgdmFyIGh0bWxfMTU0OTU3OWY5NDVlNGEwYTlmNzQ2YzIxYTI1M2Y2ZDQgPSAkKGA8ZGl2IGlkPSJodG1sXzE1NDk1NzlmOTQ1ZTRhMGE5Zjc0NmMyMWEyNTNmNmQ0IiBzdHlsZT0id2lkdGg6IDEwMC4wJTsgaGVpZ2h0OiAxMDAuMCU7Ij5MaXR0bGUgUG9ydHVnYWwsIFRyaW5pdHksIFdlc3QgVG9yb250bzwvZGl2PmApWzBdOwogICAgICAgICAgICBwb3B1cF80ZmI2MzBmOWI3YmU0YmVjYjk3MjFkY2NkMzA0MzA4OC5zZXRDb250ZW50KGh0bWxfMTU0OTU3OWY5NDVlNGEwYTlmNzQ2YzIxYTI1M2Y2ZDQpOwogICAgICAgIAoKICAgICAgICBjaXJjbGVfbWFya2VyXzIyYTQzZTFiNDE1NTRhZjdhOTIyN2RkY2VkNmNjMmRlLmJpbmRQb3B1cChwb3B1cF80ZmI2MzBmOWI3YmU0YmVjYjk3MjFkY2NkMzA0MzA4OCkKICAgICAgICA7CgogICAgICAgIAogICAgCiAgICAKICAgICAgICAgICAgdmFyIGNpcmNsZV9tYXJrZXJfYzQwNDU5Y2IwYzA3NGNhN2I5MjZjNWFjYzA2N2NmNTQgPSBMLmNpcmNsZU1hcmtlcigKICAgICAgICAgICAgICAgIFs0My42Nzk1NTcxLCAtNzkuMzUyMTg4XSwKICAgICAgICAgICAgICAgIHsiYnViYmxpbmdNb3VzZUV2ZW50cyI6IHRydWUsICJjb2xvciI6ICJibHVlIiwgImRhc2hBcnJheSI6IG51bGwsICJkYXNoT2Zmc2V0IjogbnVsbCwgImZpbGwiOiB0cnVlLCAiZmlsbENvbG9yIjogIiMzMTg2Y2MiLCAiZmlsbE9wYWNpdHkiOiAwLjcsICJmaWxsUnVsZSI6ICJldmVub2RkIiwgImxpbmVDYXAiOiAicm91bmQiLCAibGluZUpvaW4iOiAicm91bmQiLCAib3BhY2l0eSI6IDEuMCwgInJhZGl1cyI6IDUsICJzdHJva2UiOiB0cnVlLCAid2VpZ2h0IjogM30KICAgICAgICAgICAgKS5hZGRUbyhtYXBfZWFkNzQ5MjllYTU3NDE0Yjk1MTdlZDVkNDViYmE3YjkpOwogICAgICAgIAogICAgCiAgICAgICAgdmFyIHBvcHVwX2I1Nzc0YWRiZmU1YzRlMjVhY2Y3MmVjNTU2MDY5ZmI3ID0gTC5wb3B1cCh7Im1heFdpZHRoIjogIjEwMCUifSk7CgogICAgICAgIAogICAgICAgICAgICB2YXIgaHRtbF83YzNlMWExYjFjOTU0NmYyOWExOTU1MzdlMWRlY2I5ZCA9ICQoYDxkaXYgaWQ9Imh0bWxfN2MzZTFhMWIxYzk1NDZmMjlhMTk1NTM3ZTFkZWNiOWQiIHN0eWxlPSJ3aWR0aDogMTAwLjAlOyBoZWlnaHQ6IDEwMC4wJTsiPlRoZSBEYW5mb3J0aCBXZXN0LCBSaXZlcmRhbGUsIEVhc3QgVG9yb250bzwvZGl2PmApWzBdOwogICAgICAgICAgICBwb3B1cF9iNTc3NGFkYmZlNWM0ZTI1YWNmNzJlYzU1NjA2OWZiNy5zZXRDb250ZW50KGh0bWxfN2MzZTFhMWIxYzk1NDZmMjlhMTk1NTM3ZTFkZWNiOWQpOwogICAgICAgIAoKICAgICAgICBjaXJjbGVfbWFya2VyX2M0MDQ1OWNiMGMwNzRjYTdiOTI2YzVhY2MwNjdjZjU0LmJpbmRQb3B1cChwb3B1cF9iNTc3NGFkYmZlNWM0ZTI1YWNmNzJlYzU1NjA2OWZiNykKICAgICAgICA7CgogICAgICAgIAogICAgCiAgICAKICAgICAgICAgICAgdmFyIGNpcmNsZV9tYXJrZXJfZmUyNDc5ODJkNGZjNDZlY2I2OGY3ZDQzNTQ5MDM5MGQgPSBMLmNpcmNsZU1hcmtlcigKICAgICAgICAgICAgICAgIFs0My42NDcxNzY4LCAtNzkuMzgxNTc2NDAwMDAwMDFdLAogICAgICAgICAgICAgICAgeyJidWJibGluZ01vdXNlRXZlbnRzIjogdHJ1ZSwgImNvbG9yIjogImJsdWUiLCAiZGFzaEFycmF5IjogbnVsbCwgImRhc2hPZmZzZXQiOiBudWxsLCAiZmlsbCI6IHRydWUsICJmaWxsQ29sb3IiOiAiIzMxODZjYyIsICJmaWxsT3BhY2l0eSI6IDAuNywgImZpbGxSdWxlIjogImV2ZW5vZGQiLCAibGluZUNhcCI6ICJyb3VuZCIsICJsaW5lSm9pbiI6ICJyb3VuZCIsICJvcGFjaXR5IjogMS4wLCAicmFkaXVzIjogNSwgInN0cm9rZSI6IHRydWUsICJ3ZWlnaHQiOiAzfQogICAgICAgICAgICApLmFkZFRvKG1hcF9lYWQ3NDkyOWVhNTc0MTRiOTUxN2VkNWQ0NWJiYTdiOSk7CiAgICAgICAgCiAgICAKICAgICAgICB2YXIgcG9wdXBfMTFjM2EzZDg1NjE2NDc5ZmFiMWFhMmRiYzIxMjUwNGIgPSBMLnBvcHVwKHsibWF4V2lkdGgiOiAiMTAwJSJ9KTsKCiAgICAgICAgCiAgICAgICAgICAgIHZhciBodG1sX2NlMjk0MWI5MDU2OTQxZjM5MDE3Mjc1YzgwNzA2NjA1ID0gJChgPGRpdiBpZD0iaHRtbF9jZTI5NDFiOTA1Njk0MWYzOTAxNzI3NWM4MDcwNjYwNSIgc3R5bGU9IndpZHRoOiAxMDAuMCU7IGhlaWdodDogMTAwLjAlOyI+RGVzaWduIEV4Y2hhbmdlLCBUb3JvbnRvIERvbWluaW9uIENlbnRyZSwgRG93bnRvd24gVG9yb250bzwvZGl2PmApWzBdOwogICAgICAgICAgICBwb3B1cF8xMWMzYTNkODU2MTY0NzlmYWIxYWEyZGJjMjEyNTA0Yi5zZXRDb250ZW50KGh0bWxfY2UyOTQxYjkwNTY5NDFmMzkwMTcyNzVjODA3MDY2MDUpOwogICAgICAgIAoKICAgICAgICBjaXJjbGVfbWFya2VyX2ZlMjQ3OTgyZDRmYzQ2ZWNiNjhmN2Q0MzU0OTAzOTBkLmJpbmRQb3B1cChwb3B1cF8xMWMzYTNkODU2MTY0NzlmYWIxYWEyZGJjMjEyNTA0YikKICAgICAgICA7CgogICAgICAgIAogICAgCiAgICAKICAgICAgICAgICAgdmFyIGNpcmNsZV9tYXJrZXJfZDM3OWNjZjIzNmVhNDliM2IyZTI0NmUyYzhiYjMxNmQgPSBMLmNpcmNsZU1hcmtlcigKICAgICAgICAgICAgICAgIFs0My42MzY4NDcyLCAtNzkuNDI4MTkxNDAwMDAwMDJdLAogICAgICAgICAgICAgICAgeyJidWJibGluZ01vdXNlRXZlbnRzIjogdHJ1ZSwgImNvbG9yIjogImJsdWUiLCAiZGFzaEFycmF5IjogbnVsbCwgImRhc2hPZmZzZXQiOiBudWxsLCAiZmlsbCI6IHRydWUsICJmaWxsQ29sb3IiOiAiIzMxODZjYyIsICJmaWxsT3BhY2l0eSI6IDAuNywgImZpbGxSdWxlIjogImV2ZW5vZGQiLCAibGluZUNhcCI6ICJyb3VuZCIsICJsaW5lSm9pbiI6ICJyb3VuZCIsICJvcGFjaXR5IjogMS4wLCAicmFkaXVzIjogNSwgInN0cm9rZSI6IHRydWUsICJ3ZWlnaHQiOiAzfQogICAgICAgICAgICApLmFkZFRvKG1hcF9lYWQ3NDkyOWVhNTc0MTRiOTUxN2VkNWQ0NWJiYTdiOSk7CiAgICAgICAgCiAgICAKICAgICAgICB2YXIgcG9wdXBfNmYwYWJiZjY1OTJiNDMwYzg4ZjA2YTQyYTY1YmFiN2QgPSBMLnBvcHVwKHsibWF4V2lkdGgiOiAiMTAwJSJ9KTsKCiAgICAgICAgCiAgICAgICAgICAgIHZhciBodG1sXzQ0OWRmNDQzODBmOTQ2ZDZiMGM4OWJmNmI5OGQ1ZTU4ID0gJChgPGRpdiBpZD0iaHRtbF80NDlkZjQ0MzgwZjk0NmQ2YjBjODliZjZiOThkNWU1OCIgc3R5bGU9IndpZHRoOiAxMDAuMCU7IGhlaWdodDogMTAwLjAlOyI+QnJvY2t0b24sIEV4aGliaXRpb24gUGxhY2UsIFBhcmtkYWxlIFZpbGxhZ2UsIFdlc3QgVG9yb250bzwvZGl2PmApWzBdOwogICAgICAgICAgICBwb3B1cF82ZjBhYmJmNjU5MmI0MzBjODhmMDZhNDJhNjViYWI3ZC5zZXRDb250ZW50KGh0bWxfNDQ5ZGY0NDM4MGY5NDZkNmIwYzg5YmY2Yjk4ZDVlNTgpOwogICAgICAgIAoKICAgICAgICBjaXJjbGVfbWFya2VyX2QzNzljY2YyMzZlYTQ5YjNiMmUyNDZlMmM4YmIzMTZkLmJpbmRQb3B1cChwb3B1cF82ZjBhYmJmNjU5MmI0MzBjODhmMDZhNDJhNjViYWI3ZCkKICAgICAgICA7CgogICAgICAgIAogICAgCiAgICAKICAgICAgICAgICAgdmFyIGNpcmNsZV9tYXJrZXJfNWJmM2Y5MWFmNjQ5NDZiYThlMDZjYTcyN2E5ZmU0NDIgPSBMLmNpcmNsZU1hcmtlcigKICAgICAgICAgICAgICAgIFs0My42Njg5OTg1LCAtNzkuMzE1NTcxNTk5OTk5OThdLAogICAgICAgICAgICAgICAgeyJidWJibGluZ01vdXNlRXZlbnRzIjogdHJ1ZSwgImNvbG9yIjogImJsdWUiLCAiZGFzaEFycmF5IjogbnVsbCwgImRhc2hPZmZzZXQiOiBudWxsLCAiZmlsbCI6IHRydWUsICJmaWxsQ29sb3IiOiAiIzMxODZjYyIsICJmaWxsT3BhY2l0eSI6IDAuNywgImZpbGxSdWxlIjogImV2ZW5vZGQiLCAibGluZUNhcCI6ICJyb3VuZCIsICJsaW5lSm9pbiI6ICJyb3VuZCIsICJvcGFjaXR5IjogMS4wLCAicmFkaXVzIjogNSwgInN0cm9rZSI6IHRydWUsICJ3ZWlnaHQiOiAzfQogICAgICAgICAgICApLmFkZFRvKG1hcF9lYWQ3NDkyOWVhNTc0MTRiOTUxN2VkNWQ0NWJiYTdiOSk7CiAgICAgICAgCiAgICAKICAgICAgICB2YXIgcG9wdXBfYzk4YWRiZDA5NmI0NDY2ZTgxY2YyODkyNjg2N2U1NDAgPSBMLnBvcHVwKHsibWF4V2lkdGgiOiAiMTAwJSJ9KTsKCiAgICAgICAgCiAgICAgICAgICAgIHZhciBodG1sXzBiMWFmNzk3YzU1ODRlZGI4N2UzN2ZiMTQ4NTMzNGM5ID0gJChgPGRpdiBpZD0iaHRtbF8wYjFhZjc5N2M1NTg0ZWRiODdlMzdmYjE0ODUzMzRjOSIgc3R5bGU9IndpZHRoOiAxMDAuMCU7IGhlaWdodDogMTAwLjAlOyI+VGhlIEJlYWNoZXMgV2VzdCwgSW5kaWEgQmF6YWFyLCBFYXN0IFRvcm9udG88L2Rpdj5gKVswXTsKICAgICAgICAgICAgcG9wdXBfYzk4YWRiZDA5NmI0NDY2ZTgxY2YyODkyNjg2N2U1NDAuc2V0Q29udGVudChodG1sXzBiMWFmNzk3YzU1ODRlZGI4N2UzN2ZiMTQ4NTMzNGM5KTsKICAgICAgICAKCiAgICAgICAgY2lyY2xlX21hcmtlcl81YmYzZjkxYWY2NDk0NmJhOGUwNmNhNzI3YTlmZTQ0Mi5iaW5kUG9wdXAocG9wdXBfYzk4YWRiZDA5NmI0NDY2ZTgxY2YyODkyNjg2N2U1NDApCiAgICAgICAgOwoKICAgICAgICAKICAgIAogICAgCiAgICAgICAgICAgIHZhciBjaXJjbGVfbWFya2VyXzE3MDNhNDhjODBhNjRiYWNhN2UwYzgwNWI3NTI3MDNiID0gTC5jaXJjbGVNYXJrZXIoCiAgICAgICAgICAgICAgICBbNDMuNjQ4MTk4NSwgLTc5LjM3OTgxNjkwMDAwMDAxXSwKICAgICAgICAgICAgICAgIHsiYnViYmxpbmdNb3VzZUV2ZW50cyI6IHRydWUsICJjb2xvciI6ICJibHVlIiwgImRhc2hBcnJheSI6IG51bGwsICJkYXNoT2Zmc2V0IjogbnVsbCwgImZpbGwiOiB0cnVlLCAiZmlsbENvbG9yIjogIiMzMTg2Y2MiLCAiZmlsbE9wYWNpdHkiOiAwLjcsICJmaWxsUnVsZSI6ICJldmVub2RkIiwgImxpbmVDYXAiOiAicm91bmQiLCAibGluZUpvaW4iOiAicm91bmQiLCAib3BhY2l0eSI6IDEuMCwgInJhZGl1cyI6IDUsICJzdHJva2UiOiB0cnVlLCAid2VpZ2h0IjogM30KICAgICAgICAgICAgKS5hZGRUbyhtYXBfZWFkNzQ5MjllYTU3NDE0Yjk1MTdlZDVkNDViYmE3YjkpOwogICAgICAgIAogICAgCiAgICAgICAgdmFyIHBvcHVwXzE0YmVjZTdhNDNhNDQxZDQ4Y2UwOTdkOGFjZDU4Y2QxID0gTC5wb3B1cCh7Im1heFdpZHRoIjogIjEwMCUifSk7CgogICAgICAgIAogICAgICAgICAgICB2YXIgaHRtbF8zNDY5YjE5NmQ4Y2Q0ZDA2OTIxMmVmODE2Y2FlOGYyYyA9ICQoYDxkaXYgaWQ9Imh0bWxfMzQ2OWIxOTZkOGNkNGQwNjkyMTJlZjgxNmNhZThmMmMiIHN0eWxlPSJ3aWR0aDogMTAwLjAlOyBoZWlnaHQ6IDEwMC4wJTsiPkNvbW1lcmNlIENvdXJ0LCBWaWN0b3JpYSBIb3RlbCwgRG93bnRvd24gVG9yb250bzwvZGl2PmApWzBdOwogICAgICAgICAgICBwb3B1cF8xNGJlY2U3YTQzYTQ0MWQ0OGNlMDk3ZDhhY2Q1OGNkMS5zZXRDb250ZW50KGh0bWxfMzQ2OWIxOTZkOGNkNGQwNjkyMTJlZjgxNmNhZThmMmMpOwogICAgICAgIAoKICAgICAgICBjaXJjbGVfbWFya2VyXzE3MDNhNDhjODBhNjRiYWNhN2UwYzgwNWI3NTI3MDNiLmJpbmRQb3B1cChwb3B1cF8xNGJlY2U3YTQzYTQ0MWQ0OGNlMDk3ZDhhY2Q1OGNkMSkKICAgICAgICA7CgogICAgICAgIAogICAgCiAgICAKICAgICAgICAgICAgdmFyIGNpcmNsZV9tYXJrZXJfZDMyMWQ0NzA5YmU5NDU5NGFkYzI1ZjAyZWQ4N2VhYTQgPSBMLmNpcmNsZU1hcmtlcigKICAgICAgICAgICAgICAgIFs0My42NTk1MjU1LCAtNzkuMzQwOTIzXSwKICAgICAgICAgICAgICAgIHsiYnViYmxpbmdNb3VzZUV2ZW50cyI6IHRydWUsICJjb2xvciI6ICJibHVlIiwgImRhc2hBcnJheSI6IG51bGwsICJkYXNoT2Zmc2V0IjogbnVsbCwgImZpbGwiOiB0cnVlLCAiZmlsbENvbG9yIjogIiMzMTg2Y2MiLCAiZmlsbE9wYWNpdHkiOiAwLjcsICJmaWxsUnVsZSI6ICJldmVub2RkIiwgImxpbmVDYXAiOiAicm91bmQiLCAibGluZUpvaW4iOiAicm91bmQiLCAib3BhY2l0eSI6IDEuMCwgInJhZGl1cyI6IDUsICJzdHJva2UiOiB0cnVlLCAid2VpZ2h0IjogM30KICAgICAgICAgICAgKS5hZGRUbyhtYXBfZWFkNzQ5MjllYTU3NDE0Yjk1MTdlZDVkNDViYmE3YjkpOwogICAgICAgIAogICAgCiAgICAgICAgdmFyIHBvcHVwX2EwZjQyYTA3Yjc1NzQyMTFhOTllNGJkZGM3ODgzNWFiID0gTC5wb3B1cCh7Im1heFdpZHRoIjogIjEwMCUifSk7CgogICAgICAgIAogICAgICAgICAgICB2YXIgaHRtbF81YWQwZTMxNWQ2ZGY0Zjg3YWNjY2E5NTRjNTliM2EwNSA9ICQoYDxkaXYgaWQ9Imh0bWxfNWFkMGUzMTVkNmRmNGY4N2FjY2NhOTU0YzU5YjNhMDUiIHN0eWxlPSJ3aWR0aDogMTAwLjAlOyBoZWlnaHQ6IDEwMC4wJTsiPlN0dWRpbyBEaXN0cmljdCwgRWFzdCBUb3JvbnRvPC9kaXY+YClbMF07CiAgICAgICAgICAgIHBvcHVwX2EwZjQyYTA3Yjc1NzQyMTFhOTllNGJkZGM3ODgzNWFiLnNldENvbnRlbnQoaHRtbF81YWQwZTMxNWQ2ZGY0Zjg3YWNjY2E5NTRjNTliM2EwNSk7CiAgICAgICAgCgogICAgICAgIGNpcmNsZV9tYXJrZXJfZDMyMWQ0NzA5YmU5NDU5NGFkYzI1ZjAyZWQ4N2VhYTQuYmluZFBvcHVwKHBvcHVwX2EwZjQyYTA3Yjc1NzQyMTFhOTllNGJkZGM3ODgzNWFiKQogICAgICAgIDsKCiAgICAgICAgCiAgICAKICAgIAogICAgICAgICAgICB2YXIgY2lyY2xlX21hcmtlcl81OGQzYzVmMTA3YTY0Yzg2OTk3NjNiMGY2NDc5OTBiNCA9IEwuY2lyY2xlTWFya2VyKAogICAgICAgICAgICAgICAgWzQzLjcyODAyMDUsIC03OS4zODg3OTAxXSwKICAgICAgICAgICAgICAgIHsiYnViYmxpbmdNb3VzZUV2ZW50cyI6IHRydWUsICJjb2xvciI6ICJibHVlIiwgImRhc2hBcnJheSI6IG51bGwsICJkYXNoT2Zmc2V0IjogbnVsbCwgImZpbGwiOiB0cnVlLCAiZmlsbENvbG9yIjogIiMzMTg2Y2MiLCAiZmlsbE9wYWNpdHkiOiAwLjcsICJmaWxsUnVsZSI6ICJldmVub2RkIiwgImxpbmVDYXAiOiAicm91bmQiLCAibGluZUpvaW4iOiAicm91bmQiLCAib3BhY2l0eSI6IDEuMCwgInJhZGl1cyI6IDUsICJzdHJva2UiOiB0cnVlLCAid2VpZ2h0IjogM30KICAgICAgICAgICAgKS5hZGRUbyhtYXBfZWFkNzQ5MjllYTU3NDE0Yjk1MTdlZDVkNDViYmE3YjkpOwogICAgICAgIAogICAgCiAgICAgICAgdmFyIHBvcHVwX2RlNDg2ZjFmMGI3MTQwNGNiZGQwN2VkY2NiZTI1OGZmID0gTC5wb3B1cCh7Im1heFdpZHRoIjogIjEwMCUifSk7CgogICAgICAgIAogICAgICAgICAgICB2YXIgaHRtbF83OGM1OWY4ZWQ2MmY0NjA5ODMwZDAzZDg1OGY0ZmQ2YyA9ICQoYDxkaXYgaWQ9Imh0bWxfNzhjNTlmOGVkNjJmNDYwOTgzMGQwM2Q4NThmNGZkNmMiIHN0eWxlPSJ3aWR0aDogMTAwLjAlOyBoZWlnaHQ6IDEwMC4wJTsiPkxhd3JlbmNlIFBhcmssIENlbnRyYWwgVG9yb250bzwvZGl2PmApWzBdOwogICAgICAgICAgICBwb3B1cF9kZTQ4NmYxZjBiNzE0MDRjYmRkMDdlZGNjYmUyNThmZi5zZXRDb250ZW50KGh0bWxfNzhjNTlmOGVkNjJmNDYwOTgzMGQwM2Q4NThmNGZkNmMpOwogICAgICAgIAoKICAgICAgICBjaXJjbGVfbWFya2VyXzU4ZDNjNWYxMDdhNjRjODY5OTc2M2IwZjY0Nzk5MGI0LmJpbmRQb3B1cChwb3B1cF9kZTQ4NmYxZjBiNzE0MDRjYmRkMDdlZGNjYmUyNThmZikKICAgICAgICA7CgogICAgICAgIAogICAgCiAgICAKICAgICAgICAgICAgdmFyIGNpcmNsZV9tYXJrZXJfNTcxMDFlZWI2NzU1NDg5OWJlZTI1NDBjMWM4Y2MyMmMgPSBMLmNpcmNsZU1hcmtlcigKICAgICAgICAgICAgICAgIFs0My43MTE2OTQ4LCAtNzkuNDE2OTM1NTk5OTk5OTldLAogICAgICAgICAgICAgICAgeyJidWJibGluZ01vdXNlRXZlbnRzIjogdHJ1ZSwgImNvbG9yIjogImJsdWUiLCAiZGFzaEFycmF5IjogbnVsbCwgImRhc2hPZmZzZXQiOiBudWxsLCAiZmlsbCI6IHRydWUsICJmaWxsQ29sb3IiOiAiIzMxODZjYyIsICJmaWxsT3BhY2l0eSI6IDAuNywgImZpbGxSdWxlIjogImV2ZW5vZGQiLCAibGluZUNhcCI6ICJyb3VuZCIsICJsaW5lSm9pbiI6ICJyb3VuZCIsICJvcGFjaXR5IjogMS4wLCAicmFkaXVzIjogNSwgInN0cm9rZSI6IHRydWUsICJ3ZWlnaHQiOiAzfQogICAgICAgICAgICApLmFkZFRvKG1hcF9lYWQ3NDkyOWVhNTc0MTRiOTUxN2VkNWQ0NWJiYTdiOSk7CiAgICAgICAgCiAgICAKICAgICAgICB2YXIgcG9wdXBfNDI2ZDMzOTgxODYzNGE5ZTkwZGQzNmU3M2M5ODIwMmEgPSBMLnBvcHVwKHsibWF4V2lkdGgiOiAiMTAwJSJ9KTsKCiAgICAgICAgCiAgICAgICAgICAgIHZhciBodG1sX2FjMjlkODBlZmRjNTQ4YzZhNGIyNDNkNGU3ZjE4NDg3ID0gJChgPGRpdiBpZD0iaHRtbF9hYzI5ZDgwZWZkYzU0OGM2YTRiMjQzZDRlN2YxODQ4NyIgc3R5bGU9IndpZHRoOiAxMDAuMCU7IGhlaWdodDogMTAwLjAlOyI+Um9zZWxhd24sIENlbnRyYWwgVG9yb250bzwvZGl2PmApWzBdOwogICAgICAgICAgICBwb3B1cF80MjZkMzM5ODE4NjM0YTllOTBkZDM2ZTczYzk4MjAyYS5zZXRDb250ZW50KGh0bWxfYWMyOWQ4MGVmZGM1NDhjNmE0YjI0M2Q0ZTdmMTg0ODcpOwogICAgICAgIAoKICAgICAgICBjaXJjbGVfbWFya2VyXzU3MTAxZWViNjc1NTQ4OTliZWUyNTQwYzFjOGNjMjJjLmJpbmRQb3B1cChwb3B1cF80MjZkMzM5ODE4NjM0YTllOTBkZDM2ZTczYzk4MjAyYSkKICAgICAgICA7CgogICAgICAgIAogICAgCiAgICAKICAgICAgICAgICAgdmFyIGNpcmNsZV9tYXJrZXJfMTNmZGI3NGY5ZGQwNDZmOWE2NTg1YWUyMGY2YjQyZTMgPSBMLmNpcmNsZU1hcmtlcigKICAgICAgICAgICAgICAgIFs0My43MTI3NTExLCAtNzkuMzkwMTk3NV0sCiAgICAgICAgICAgICAgICB7ImJ1YmJsaW5nTW91c2VFdmVudHMiOiB0cnVlLCAiY29sb3IiOiAiYmx1ZSIsICJkYXNoQXJyYXkiOiBudWxsLCAiZGFzaE9mZnNldCI6IG51bGwsICJmaWxsIjogdHJ1ZSwgImZpbGxDb2xvciI6ICIjMzE4NmNjIiwgImZpbGxPcGFjaXR5IjogMC43LCAiZmlsbFJ1bGUiOiAiZXZlbm9kZCIsICJsaW5lQ2FwIjogInJvdW5kIiwgImxpbmVKb2luIjogInJvdW5kIiwgIm9wYWNpdHkiOiAxLjAsICJyYWRpdXMiOiA1LCAic3Ryb2tlIjogdHJ1ZSwgIndlaWdodCI6IDN9CiAgICAgICAgICAgICkuYWRkVG8obWFwX2VhZDc0OTI5ZWE1NzQxNGI5NTE3ZWQ1ZDQ1YmJhN2I5KTsKICAgICAgICAKICAgIAogICAgICAgIHZhciBwb3B1cF9hZjI0NTliMzViMmQ0MGQzYThhODE5MTA1OTg0ZDQ0NCA9IEwucG9wdXAoeyJtYXhXaWR0aCI6ICIxMDAlIn0pOwoKICAgICAgICAKICAgICAgICAgICAgdmFyIGh0bWxfNTkzNDQ5NTg0MmI2NDA3ODlhOTE1NGJmMmUxMTViM2UgPSAkKGA8ZGl2IGlkPSJodG1sXzU5MzQ0OTU4NDJiNjQwNzg5YTkxNTRiZjJlMTE1YjNlIiBzdHlsZT0id2lkdGg6IDEwMC4wJTsgaGVpZ2h0OiAxMDAuMCU7Ij5EYXZpc3ZpbGxlIE5vcnRoLCBDZW50cmFsIFRvcm9udG88L2Rpdj5gKVswXTsKICAgICAgICAgICAgcG9wdXBfYWYyNDU5YjM1YjJkNDBkM2E4YTgxOTEwNTk4NGQ0NDQuc2V0Q29udGVudChodG1sXzU5MzQ0OTU4NDJiNjQwNzg5YTkxNTRiZjJlMTE1YjNlKTsKICAgICAgICAKCiAgICAgICAgY2lyY2xlX21hcmtlcl8xM2ZkYjc0ZjlkZDA0NmY5YTY1ODVhZTIwZjZiNDJlMy5iaW5kUG9wdXAocG9wdXBfYWYyNDU5YjM1YjJkNDBkM2E4YTgxOTEwNTk4NGQ0NDQpCiAgICAgICAgOwoKICAgICAgICAKICAgIAogICAgCiAgICAgICAgICAgIHZhciBjaXJjbGVfbWFya2VyXzcyNTcwN2JhMzljMjQ4MzlhNTNkZjVjODg2ZWIwMGM0ID0gTC5jaXJjbGVNYXJrZXIoCiAgICAgICAgICAgICAgICBbNDMuNjk2OTQ3NiwgLTc5LjQxMTMwNzIwMDAwMDAxXSwKICAgICAgICAgICAgICAgIHsiYnViYmxpbmdNb3VzZUV2ZW50cyI6IHRydWUsICJjb2xvciI6ICJibHVlIiwgImRhc2hBcnJheSI6IG51bGwsICJkYXNoT2Zmc2V0IjogbnVsbCwgImZpbGwiOiB0cnVlLCAiZmlsbENvbG9yIjogIiMzMTg2Y2MiLCAiZmlsbE9wYWNpdHkiOiAwLjcsICJmaWxsUnVsZSI6ICJldmVub2RkIiwgImxpbmVDYXAiOiAicm91bmQiLCAibGluZUpvaW4iOiAicm91bmQiLCAib3BhY2l0eSI6IDEuMCwgInJhZGl1cyI6IDUsICJzdHJva2UiOiB0cnVlLCAid2VpZ2h0IjogM30KICAgICAgICAgICAgKS5hZGRUbyhtYXBfZWFkNzQ5MjllYTU3NDE0Yjk1MTdlZDVkNDViYmE3YjkpOwogICAgICAgIAogICAgCiAgICAgICAgdmFyIHBvcHVwXzY4ZDhlYTNmZTY2ZDQyMWQ5ZmE0NjBjNmIyZjI2YmEzID0gTC5wb3B1cCh7Im1heFdpZHRoIjogIjEwMCUifSk7CgogICAgICAgIAogICAgICAgICAgICB2YXIgaHRtbF80OThjMjZhZmNkYWI0ZmYwYWZiZjk1NDdiMzdjOGJlMCA9ICQoYDxkaXYgaWQ9Imh0bWxfNDk4YzI2YWZjZGFiNGZmMGFmYmY5NTQ3YjM3YzhiZTAiIHN0eWxlPSJ3aWR0aDogMTAwLjAlOyBoZWlnaHQ6IDEwMC4wJTsiPkZvcmVzdCBIaWxsIE5vcnRoLCBGb3Jlc3QgSGlsbCBXZXN0LCBDZW50cmFsIFRvcm9udG88L2Rpdj5gKVswXTsKICAgICAgICAgICAgcG9wdXBfNjhkOGVhM2ZlNjZkNDIxZDlmYTQ2MGM2YjJmMjZiYTMuc2V0Q29udGVudChodG1sXzQ5OGMyNmFmY2RhYjRmZjBhZmJmOTU0N2IzN2M4YmUwKTsKICAgICAgICAKCiAgICAgICAgY2lyY2xlX21hcmtlcl83MjU3MDdiYTM5YzI0ODM5YTUzZGY1Yzg4NmViMDBjNC5iaW5kUG9wdXAocG9wdXBfNjhkOGVhM2ZlNjZkNDIxZDlmYTQ2MGM2YjJmMjZiYTMpCiAgICAgICAgOwoKICAgICAgICAKICAgIAogICAgCiAgICAgICAgICAgIHZhciBjaXJjbGVfbWFya2VyXzUwYWI3MjMxNDA0ZTRlZmNhNGU4ZGRjMGMxYTJlY2FmID0gTC5jaXJjbGVNYXJrZXIoCiAgICAgICAgICAgICAgICBbNDMuNjYxNjA4MywgLTc5LjQ2NDc2MzI5OTk5OTk5XSwKICAgICAgICAgICAgICAgIHsiYnViYmxpbmdNb3VzZUV2ZW50cyI6IHRydWUsICJjb2xvciI6ICJibHVlIiwgImRhc2hBcnJheSI6IG51bGwsICJkYXNoT2Zmc2V0IjogbnVsbCwgImZpbGwiOiB0cnVlLCAiZmlsbENvbG9yIjogIiMzMTg2Y2MiLCAiZmlsbE9wYWNpdHkiOiAwLjcsICJmaWxsUnVsZSI6ICJldmVub2RkIiwgImxpbmVDYXAiOiAicm91bmQiLCAibGluZUpvaW4iOiAicm91bmQiLCAib3BhY2l0eSI6IDEuMCwgInJhZGl1cyI6IDUsICJzdHJva2UiOiB0cnVlLCAid2VpZ2h0IjogM30KICAgICAgICAgICAgKS5hZGRUbyhtYXBfZWFkNzQ5MjllYTU3NDE0Yjk1MTdlZDVkNDViYmE3YjkpOwogICAgICAgIAogICAgCiAgICAgICAgdmFyIHBvcHVwXzlkMjYwZjc5ZjIyMTQxMWJiOTc0ZDBjNDE1MjI4OTkwID0gTC5wb3B1cCh7Im1heFdpZHRoIjogIjEwMCUifSk7CgogICAgICAgIAogICAgICAgICAgICB2YXIgaHRtbF9hMjU3YWMxMTZlOWY0ZGE5OGZlZTllMTdlZmIyNTllMyA9ICQoYDxkaXYgaWQ9Imh0bWxfYTI1N2FjMTE2ZTlmNGRhOThmZWU5ZTE3ZWZiMjU5ZTMiIHN0eWxlPSJ3aWR0aDogMTAwLjAlOyBoZWlnaHQ6IDEwMC4wJTsiPkhpZ2ggUGFyaywgVGhlIEp1bmN0aW9uIFNvdXRoLCBXZXN0IFRvcm9udG88L2Rpdj5gKVswXTsKICAgICAgICAgICAgcG9wdXBfOWQyNjBmNzlmMjIxNDExYmI5NzRkMGM0MTUyMjg5OTAuc2V0Q29udGVudChodG1sX2EyNTdhYzExNmU5ZjRkYTk4ZmVlOWUxN2VmYjI1OWUzKTsKICAgICAgICAKCiAgICAgICAgY2lyY2xlX21hcmtlcl81MGFiNzIzMTQwNGU0ZWZjYTRlOGRkYzBjMWEyZWNhZi5iaW5kUG9wdXAocG9wdXBfOWQyNjBmNzlmMjIxNDExYmI5NzRkMGM0MTUyMjg5OTApCiAgICAgICAgOwoKICAgICAgICAKICAgIAogICAgCiAgICAgICAgICAgIHZhciBjaXJjbGVfbWFya2VyXzEwZjYzOGFmMTYwYTRiZmI5OGQ0MjUzZTllM2NlMTk0ID0gTC5jaXJjbGVNYXJrZXIoCiAgICAgICAgICAgICAgICBbNDMuNzE1MzgzNCwgLTc5LjQwNTY3ODQwMDAwMDAxXSwKICAgICAgICAgICAgICAgIHsiYnViYmxpbmdNb3VzZUV2ZW50cyI6IHRydWUsICJjb2xvciI6ICJibHVlIiwgImRhc2hBcnJheSI6IG51bGwsICJkYXNoT2Zmc2V0IjogbnVsbCwgImZpbGwiOiB0cnVlLCAiZmlsbENvbG9yIjogIiMzMTg2Y2MiLCAiZmlsbE9wYWNpdHkiOiAwLjcsICJmaWxsUnVsZSI6ICJldmVub2RkIiwgImxpbmVDYXAiOiAicm91bmQiLCAibGluZUpvaW4iOiAicm91bmQiLCAib3BhY2l0eSI6IDEuMCwgInJhZGl1cyI6IDUsICJzdHJva2UiOiB0cnVlLCAid2VpZ2h0IjogM30KICAgICAgICAgICAgKS5hZGRUbyhtYXBfZWFkNzQ5MjllYTU3NDE0Yjk1MTdlZDVkNDViYmE3YjkpOwogICAgICAgIAogICAgCiAgICAgICAgdmFyIHBvcHVwX2YwOTQxNzFjMjI0ZDQyYWFiZGYzNThiYTkxMzAwZGIzID0gTC5wb3B1cCh7Im1heFdpZHRoIjogIjEwMCUifSk7CgogICAgICAgIAogICAgICAgICAgICB2YXIgaHRtbF83NmYwNjYzNjNjMTI0Nzg0ODFmYjQ1YWE3Y2ZlMmJhYyA9ICQoYDxkaXYgaWQ9Imh0bWxfNzZmMDY2MzYzYzEyNDc4NDgxZmI0NWFhN2NmZTJiYWMiIHN0eWxlPSJ3aWR0aDogMTAwLjAlOyBoZWlnaHQ6IDEwMC4wJTsiPk5vcnRoIFRvcm9udG8gV2VzdCwgQ2VudHJhbCBUb3JvbnRvPC9kaXY+YClbMF07CiAgICAgICAgICAgIHBvcHVwX2YwOTQxNzFjMjI0ZDQyYWFiZGYzNThiYTkxMzAwZGIzLnNldENvbnRlbnQoaHRtbF83NmYwNjYzNjNjMTI0Nzg0ODFmYjQ1YWE3Y2ZlMmJhYyk7CiAgICAgICAgCgogICAgICAgIGNpcmNsZV9tYXJrZXJfMTBmNjM4YWYxNjBhNGJmYjk4ZDQyNTNlOWUzY2UxOTQuYmluZFBvcHVwKHBvcHVwX2YwOTQxNzFjMjI0ZDQyYWFiZGYzNThiYTkxMzAwZGIzKQogICAgICAgIDsKCiAgICAgICAgCiAgICAKICAgIAogICAgICAgICAgICB2YXIgY2lyY2xlX21hcmtlcl9kOGQ2NGEzZDg1ZDk0MjE0YmYwMjZlNTE0ODJjNjc1YiA9IEwuY2lyY2xlTWFya2VyKAogICAgICAgICAgICAgICAgWzQzLjY3MjcwOTcsIC03OS40MDU2Nzg0MDAwMDAwMV0sCiAgICAgICAgICAgICAgICB7ImJ1YmJsaW5nTW91c2VFdmVudHMiOiB0cnVlLCAiY29sb3IiOiAiYmx1ZSIsICJkYXNoQXJyYXkiOiBudWxsLCAiZGFzaE9mZnNldCI6IG51bGwsICJmaWxsIjogdHJ1ZSwgImZpbGxDb2xvciI6ICIjMzE4NmNjIiwgImZpbGxPcGFjaXR5IjogMC43LCAiZmlsbFJ1bGUiOiAiZXZlbm9kZCIsICJsaW5lQ2FwIjogInJvdW5kIiwgImxpbmVKb2luIjogInJvdW5kIiwgIm9wYWNpdHkiOiAxLjAsICJyYWRpdXMiOiA1LCAic3Ryb2tlIjogdHJ1ZSwgIndlaWdodCI6IDN9CiAgICAgICAgICAgICkuYWRkVG8obWFwX2VhZDc0OTI5ZWE1NzQxNGI5NTE3ZWQ1ZDQ1YmJhN2I5KTsKICAgICAgICAKICAgIAogICAgICAgIHZhciBwb3B1cF8wNzkwNmI4YTYyZDU0MzUyOTViNzllYWNiNWUyMTRkZiA9IEwucG9wdXAoeyJtYXhXaWR0aCI6ICIxMDAlIn0pOwoKICAgICAgICAKICAgICAgICAgICAgdmFyIGh0bWxfZDM4ODZhODRjODhiNDQ4YTk2NzgwOTk5NjIyZjc4OWMgPSAkKGA8ZGl2IGlkPSJodG1sX2QzODg2YTg0Yzg4YjQ0OGE5Njc4MDk5OTYyMmY3ODljIiBzdHlsZT0id2lkdGg6IDEwMC4wJTsgaGVpZ2h0OiAxMDAuMCU7Ij5UaGUgQW5uZXgsIE5vcnRoIE1pZHRvd24sIFlvcmt2aWxsZSwgQ2VudHJhbCBUb3JvbnRvPC9kaXY+YClbMF07CiAgICAgICAgICAgIHBvcHVwXzA3OTA2YjhhNjJkNTQzNTI5NWI3OWVhY2I1ZTIxNGRmLnNldENvbnRlbnQoaHRtbF9kMzg4NmE4NGM4OGI0NDhhOTY3ODA5OTk2MjJmNzg5Yyk7CiAgICAgICAgCgogICAgICAgIGNpcmNsZV9tYXJrZXJfZDhkNjRhM2Q4NWQ5NDIxNGJmMDI2ZTUxNDgyYzY3NWIuYmluZFBvcHVwKHBvcHVwXzA3OTA2YjhhNjJkNTQzNTI5NWI3OWVhY2I1ZTIxNGRmKQogICAgICAgIDsKCiAgICAgICAgCiAgICAKICAgIAogICAgICAgICAgICB2YXIgY2lyY2xlX21hcmtlcl80OWZlNTU3YmQ3ZWM0Mzc1OGE0Mzk1NGIzZDJjODhmMSA9IEwuY2lyY2xlTWFya2VyKAogICAgICAgICAgICAgICAgWzQzLjY0ODk1OTcsIC03OS40NTYzMjVdLAogICAgICAgICAgICAgICAgeyJidWJibGluZ01vdXNlRXZlbnRzIjogdHJ1ZSwgImNvbG9yIjogImJsdWUiLCAiZGFzaEFycmF5IjogbnVsbCwgImRhc2hPZmZzZXQiOiBudWxsLCAiZmlsbCI6IHRydWUsICJmaWxsQ29sb3IiOiAiIzMxODZjYyIsICJmaWxsT3BhY2l0eSI6IDAuNywgImZpbGxSdWxlIjogImV2ZW5vZGQiLCAibGluZUNhcCI6ICJyb3VuZCIsICJsaW5lSm9pbiI6ICJyb3VuZCIsICJvcGFjaXR5IjogMS4wLCAicmFkaXVzIjogNSwgInN0cm9rZSI6IHRydWUsICJ3ZWlnaHQiOiAzfQogICAgICAgICAgICApLmFkZFRvKG1hcF9lYWQ3NDkyOWVhNTc0MTRiOTUxN2VkNWQ0NWJiYTdiOSk7CiAgICAgICAgCiAgICAKICAgICAgICB2YXIgcG9wdXBfZDdjMDE1NjdhYzU0NGIyZGJhNmU5Y2RhMTYzMDdjODIgPSBMLnBvcHVwKHsibWF4V2lkdGgiOiAiMTAwJSJ9KTsKCiAgICAgICAgCiAgICAgICAgICAgIHZhciBodG1sX2ZjNmYzM2Q4ZWZjZjRmZTRiYjE0MTYwN2E3OGI1MjI5ID0gJChgPGRpdiBpZD0iaHRtbF9mYzZmMzNkOGVmY2Y0ZmU0YmIxNDE2MDdhNzhiNTIyOSIgc3R5bGU9IndpZHRoOiAxMDAuMCU7IGhlaWdodDogMTAwLjAlOyI+UGFya2RhbGUsIFJvbmNlc3ZhbGxlcywgV2VzdCBUb3JvbnRvPC9kaXY+YClbMF07CiAgICAgICAgICAgIHBvcHVwX2Q3YzAxNTY3YWM1NDRiMmRiYTZlOWNkYTE2MzA3YzgyLnNldENvbnRlbnQoaHRtbF9mYzZmMzNkOGVmY2Y0ZmU0YmIxNDE2MDdhNzhiNTIyOSk7CiAgICAgICAgCgogICAgICAgIGNpcmNsZV9tYXJrZXJfNDlmZTU1N2JkN2VjNDM3NThhNDM5NTRiM2QyYzg4ZjEuYmluZFBvcHVwKHBvcHVwX2Q3YzAxNTY3YWM1NDRiMmRiYTZlOWNkYTE2MzA3YzgyKQogICAgICAgIDsKCiAgICAgICAgCiAgICAKICAgIAogICAgICAgICAgICB2YXIgY2lyY2xlX21hcmtlcl9hMmMxMzgzNTFlOTk0NmQzOWMzYTlkODdlMDAyZGU3NSA9IEwuY2lyY2xlTWFya2VyKAogICAgICAgICAgICAgICAgWzQzLjcwNDMyNDQsIC03OS4zODg3OTAxXSwKICAgICAgICAgICAgICAgIHsiYnViYmxpbmdNb3VzZUV2ZW50cyI6IHRydWUsICJjb2xvciI6ICJibHVlIiwgImRhc2hBcnJheSI6IG51bGwsICJkYXNoT2Zmc2V0IjogbnVsbCwgImZpbGwiOiB0cnVlLCAiZmlsbENvbG9yIjogIiMzMTg2Y2MiLCAiZmlsbE9wYWNpdHkiOiAwLjcsICJmaWxsUnVsZSI6ICJldmVub2RkIiwgImxpbmVDYXAiOiAicm91bmQiLCAibGluZUpvaW4iOiAicm91bmQiLCAib3BhY2l0eSI6IDEuMCwgInJhZGl1cyI6IDUsICJzdHJva2UiOiB0cnVlLCAid2VpZ2h0IjogM30KICAgICAgICAgICAgKS5hZGRUbyhtYXBfZWFkNzQ5MjllYTU3NDE0Yjk1MTdlZDVkNDViYmE3YjkpOwogICAgICAgIAogICAgCiAgICAgICAgdmFyIHBvcHVwXzE4NTU2NGUyMmRkODQ0ZjY5OGM1N2RkNTAxMmU4MzgyID0gTC5wb3B1cCh7Im1heFdpZHRoIjogIjEwMCUifSk7CgogICAgICAgIAogICAgICAgICAgICB2YXIgaHRtbF8zOTIyNmJkMjIxMWQ0Y2M2OTA2NzFlYjA2MWI0MWNlZCA9ICQoYDxkaXYgaWQ9Imh0bWxfMzkyMjZiZDIyMTFkNGNjNjkwNjcxZWIwNjFiNDFjZWQiIHN0eWxlPSJ3aWR0aDogMTAwLjAlOyBoZWlnaHQ6IDEwMC4wJTsiPkRhdmlzdmlsbGUsIENlbnRyYWwgVG9yb250bzwvZGl2PmApWzBdOwogICAgICAgICAgICBwb3B1cF8xODU1NjRlMjJkZDg0NGY2OThjNTdkZDUwMTJlODM4Mi5zZXRDb250ZW50KGh0bWxfMzkyMjZiZDIyMTFkNGNjNjkwNjcxZWIwNjFiNDFjZWQpOwogICAgICAgIAoKICAgICAgICBjaXJjbGVfbWFya2VyX2EyYzEzODM1MWU5OTQ2ZDM5YzNhOWQ4N2UwMDJkZTc1LmJpbmRQb3B1cChwb3B1cF8xODU1NjRlMjJkZDg0NGY2OThjNTdkZDUwMTJlODM4MikKICAgICAgICA7CgogICAgICAgIAogICAgCiAgICAKICAgICAgICAgICAgdmFyIGNpcmNsZV9tYXJrZXJfYjJjZWRjZGM2N2M0NDU4MWE4NDJiZjI2YWY3MzIzNGIgPSBMLmNpcmNsZU1hcmtlcigKICAgICAgICAgICAgICAgIFs0My42NjI2OTU2LCAtNzkuNDAwMDQ5M10sCiAgICAgICAgICAgICAgICB7ImJ1YmJsaW5nTW91c2VFdmVudHMiOiB0cnVlLCAiY29sb3IiOiAiYmx1ZSIsICJkYXNoQXJyYXkiOiBudWxsLCAiZGFzaE9mZnNldCI6IG51bGwsICJmaWxsIjogdHJ1ZSwgImZpbGxDb2xvciI6ICIjMzE4NmNjIiwgImZpbGxPcGFjaXR5IjogMC43LCAiZmlsbFJ1bGUiOiAiZXZlbm9kZCIsICJsaW5lQ2FwIjogInJvdW5kIiwgImxpbmVKb2luIjogInJvdW5kIiwgIm9wYWNpdHkiOiAxLjAsICJyYWRpdXMiOiA1LCAic3Ryb2tlIjogdHJ1ZSwgIndlaWdodCI6IDN9CiAgICAgICAgICAgICkuYWRkVG8obWFwX2VhZDc0OTI5ZWE1NzQxNGI5NTE3ZWQ1ZDQ1YmJhN2I5KTsKICAgICAgICAKICAgIAogICAgICAgIHZhciBwb3B1cF8xN2I0NjlmYjYwYTc0OWM5YmFiODM0YjQwNWVlOWNiYiA9IEwucG9wdXAoeyJtYXhXaWR0aCI6ICIxMDAlIn0pOwoKICAgICAgICAKICAgICAgICAgICAgdmFyIGh0bWxfZDY2ZDhiMTVlZDE0NGFiOGFlZTRlZjQ5Yjg1MzE3ZTYgPSAkKGA8ZGl2IGlkPSJodG1sX2Q2NmQ4YjE1ZWQxNDRhYjhhZWU0ZWY0OWI4NTMxN2U2IiBzdHlsZT0id2lkdGg6IDEwMC4wJTsgaGVpZ2h0OiAxMDAuMCU7Ij5IYXJib3JkLCBVbml2ZXJzaXR5IG9mIFRvcm9udG8sIERvd250b3duIFRvcm9udG88L2Rpdj5gKVswXTsKICAgICAgICAgICAgcG9wdXBfMTdiNDY5ZmI2MGE3NDljOWJhYjgzNGI0MDVlZTljYmIuc2V0Q29udGVudChodG1sX2Q2NmQ4YjE1ZWQxNDRhYjhhZWU0ZWY0OWI4NTMxN2U2KTsKICAgICAgICAKCiAgICAgICAgY2lyY2xlX21hcmtlcl9iMmNlZGNkYzY3YzQ0NTgxYTg0MmJmMjZhZjczMjM0Yi5iaW5kUG9wdXAocG9wdXBfMTdiNDY5ZmI2MGE3NDljOWJhYjgzNGI0MDVlZTljYmIpCiAgICAgICAgOwoKICAgICAgICAKICAgIAogICAgCiAgICAgICAgICAgIHZhciBjaXJjbGVfbWFya2VyX2ViNTlmOTI4MmU5NjQzMjBhY2YxZWNlYzdlYzhlOGQ3ID0gTC5jaXJjbGVNYXJrZXIoCiAgICAgICAgICAgICAgICBbNDMuNjUxNTcwNiwgLTc5LjQ4NDQ0OTldLAogICAgICAgICAgICAgICAgeyJidWJibGluZ01vdXNlRXZlbnRzIjogdHJ1ZSwgImNvbG9yIjogImJsdWUiLCAiZGFzaEFycmF5IjogbnVsbCwgImRhc2hPZmZzZXQiOiBudWxsLCAiZmlsbCI6IHRydWUsICJmaWxsQ29sb3IiOiAiIzMxODZjYyIsICJmaWxsT3BhY2l0eSI6IDAuNywgImZpbGxSdWxlIjogImV2ZW5vZGQiLCAibGluZUNhcCI6ICJyb3VuZCIsICJsaW5lSm9pbiI6ICJyb3VuZCIsICJvcGFjaXR5IjogMS4wLCAicmFkaXVzIjogNSwgInN0cm9rZSI6IHRydWUsICJ3ZWlnaHQiOiAzfQogICAgICAgICAgICApLmFkZFRvKG1hcF9lYWQ3NDkyOWVhNTc0MTRiOTUxN2VkNWQ0NWJiYTdiOSk7CiAgICAgICAgCiAgICAKICAgICAgICB2YXIgcG9wdXBfOGE4MGRjOTY1ODg1NDQwYmIwMjViYTFkM2UyYmQzMzQgPSBMLnBvcHVwKHsibWF4V2lkdGgiOiAiMTAwJSJ9KTsKCiAgICAgICAgCiAgICAgICAgICAgIHZhciBodG1sXzAzZmY5NGVmMDE5MzQ5MmNhMTNiMTRiNzgyZjgwMzgwID0gJChgPGRpdiBpZD0iaHRtbF8wM2ZmOTRlZjAxOTM0OTJjYTEzYjE0Yjc4MmY4MDM4MCIgc3R5bGU9IndpZHRoOiAxMDAuMCU7IGhlaWdodDogMTAwLjAlOyI+UnVubnltZWRlLCBTd2Fuc2VhLCBXZXN0IFRvcm9udG88L2Rpdj5gKVswXTsKICAgICAgICAgICAgcG9wdXBfOGE4MGRjOTY1ODg1NDQwYmIwMjViYTFkM2UyYmQzMzQuc2V0Q29udGVudChodG1sXzAzZmY5NGVmMDE5MzQ5MmNhMTNiMTRiNzgyZjgwMzgwKTsKICAgICAgICAKCiAgICAgICAgY2lyY2xlX21hcmtlcl9lYjU5ZjkyODJlOTY0MzIwYWNmMWVjZWM3ZWM4ZThkNy5iaW5kUG9wdXAocG9wdXBfOGE4MGRjOTY1ODg1NDQwYmIwMjViYTFkM2UyYmQzMzQpCiAgICAgICAgOwoKICAgICAgICAKICAgIAogICAgCiAgICAgICAgICAgIHZhciBjaXJjbGVfbWFya2VyX2NlMGY0Njg0MTExMDQ0ZGI5MTU5MmIwYTQ2ZWQ1NDdkID0gTC5jaXJjbGVNYXJrZXIoCiAgICAgICAgICAgICAgICBbNDMuNjg5NTc0MywgLTc5LjM4MzE1OTkwMDAwMDAxXSwKICAgICAgICAgICAgICAgIHsiYnViYmxpbmdNb3VzZUV2ZW50cyI6IHRydWUsICJjb2xvciI6ICJibHVlIiwgImRhc2hBcnJheSI6IG51bGwsICJkYXNoT2Zmc2V0IjogbnVsbCwgImZpbGwiOiB0cnVlLCAiZmlsbENvbG9yIjogIiMzMTg2Y2MiLCAiZmlsbE9wYWNpdHkiOiAwLjcsICJmaWxsUnVsZSI6ICJldmVub2RkIiwgImxpbmVDYXAiOiAicm91bmQiLCAibGluZUpvaW4iOiAicm91bmQiLCAib3BhY2l0eSI6IDEuMCwgInJhZGl1cyI6IDUsICJzdHJva2UiOiB0cnVlLCAid2VpZ2h0IjogM30KICAgICAgICAgICAgKS5hZGRUbyhtYXBfZWFkNzQ5MjllYTU3NDE0Yjk1MTdlZDVkNDViYmE3YjkpOwogICAgICAgIAogICAgCiAgICAgICAgdmFyIHBvcHVwXzZmNDU2NjY4OGVlNzRlNzNhZTVmYzhmZThhMDYzOTRmID0gTC5wb3B1cCh7Im1heFdpZHRoIjogIjEwMCUifSk7CgogICAgICAgIAogICAgICAgICAgICB2YXIgaHRtbF9iMjU1YmQ3OGIxNmM0NTUwYjkxYmZhODFjYjZiZDI1OSA9ICQoYDxkaXYgaWQ9Imh0bWxfYjI1NWJkNzhiMTZjNDU1MGI5MWJmYTgxY2I2YmQyNTkiIHN0eWxlPSJ3aWR0aDogMTAwLjAlOyBoZWlnaHQ6IDEwMC4wJTsiPk1vb3JlIFBhcmssIFN1bW1lcmhpbGwgRWFzdCwgQ2VudHJhbCBUb3JvbnRvPC9kaXY+YClbMF07CiAgICAgICAgICAgIHBvcHVwXzZmNDU2NjY4OGVlNzRlNzNhZTVmYzhmZThhMDYzOTRmLnNldENvbnRlbnQoaHRtbF9iMjU1YmQ3OGIxNmM0NTUwYjkxYmZhODFjYjZiZDI1OSk7CiAgICAgICAgCgogICAgICAgIGNpcmNsZV9tYXJrZXJfY2UwZjQ2ODQxMTEwNDRkYjkxNTkyYjBhNDZlZDU0N2QuYmluZFBvcHVwKHBvcHVwXzZmNDU2NjY4OGVlNzRlNzNhZTVmYzhmZThhMDYzOTRmKQogICAgICAgIDsKCiAgICAgICAgCiAgICAKICAgIAogICAgICAgICAgICB2YXIgY2lyY2xlX21hcmtlcl9hNDU3OTFmZTUxZDU0YzUzYTljYzdjYWM3YzVlMTI0OCA9IEwuY2lyY2xlTWFya2VyKAogICAgICAgICAgICAgICAgWzQzLjY1MzIwNTcsIC03OS40MDAwNDkzXSwKICAgICAgICAgICAgICAgIHsiYnViYmxpbmdNb3VzZUV2ZW50cyI6IHRydWUsICJjb2xvciI6ICJibHVlIiwgImRhc2hBcnJheSI6IG51bGwsICJkYXNoT2Zmc2V0IjogbnVsbCwgImZpbGwiOiB0cnVlLCAiZmlsbENvbG9yIjogIiMzMTg2Y2MiLCAiZmlsbE9wYWNpdHkiOiAwLjcsICJmaWxsUnVsZSI6ICJldmVub2RkIiwgImxpbmVDYXAiOiAicm91bmQiLCAibGluZUpvaW4iOiAicm91bmQiLCAib3BhY2l0eSI6IDEuMCwgInJhZGl1cyI6IDUsICJzdHJva2UiOiB0cnVlLCAid2VpZ2h0IjogM30KICAgICAgICAgICAgKS5hZGRUbyhtYXBfZWFkNzQ5MjllYTU3NDE0Yjk1MTdlZDVkNDViYmE3YjkpOwogICAgICAgIAogICAgCiAgICAgICAgdmFyIHBvcHVwXzA5YmE0MzU4MWY1YjQxNzQ4MDRkZmQwZWE1ZjkwMmQ5ID0gTC5wb3B1cCh7Im1heFdpZHRoIjogIjEwMCUifSk7CgogICAgICAgIAogICAgICAgICAgICB2YXIgaHRtbF8xM2FjOWM1YWNkMmE0NjdmYjJjMDNlZGY1NjNkNjI4OCA9ICQoYDxkaXYgaWQ9Imh0bWxfMTNhYzljNWFjZDJhNDY3ZmIyYzAzZWRmNTYzZDYyODgiIHN0eWxlPSJ3aWR0aDogMTAwLjAlOyBoZWlnaHQ6IDEwMC4wJTsiPkNoaW5hdG93biwgR3JhbmdlIFBhcmssIEtlbnNpbmd0b24gTWFya2V0LCBEb3dudG93biBUb3JvbnRvPC9kaXY+YClbMF07CiAgICAgICAgICAgIHBvcHVwXzA5YmE0MzU4MWY1YjQxNzQ4MDRkZmQwZWE1ZjkwMmQ5LnNldENvbnRlbnQoaHRtbF8xM2FjOWM1YWNkMmE0NjdmYjJjMDNlZGY1NjNkNjI4OCk7CiAgICAgICAgCgogICAgICAgIGNpcmNsZV9tYXJrZXJfYTQ1NzkxZmU1MWQ1NGM1M2E5Y2M3Y2FjN2M1ZTEyNDguYmluZFBvcHVwKHBvcHVwXzA5YmE0MzU4MWY1YjQxNzQ4MDRkZmQwZWE1ZjkwMmQ5KQogICAgICAgIDsKCiAgICAgICAgCiAgICAKICAgIAogICAgICAgICAgICB2YXIgY2lyY2xlX21hcmtlcl82MDc0N2VhOWE4OGE0ODE2YTgzYmRmZjA3MDhiMDU3MCA9IEwuY2lyY2xlTWFya2VyKAogICAgICAgICAgICAgICAgWzQzLjY4NjQxMjI5OTk5OTk5LCAtNzkuNDAwMDQ5M10sCiAgICAgICAgICAgICAgICB7ImJ1YmJsaW5nTW91c2VFdmVudHMiOiB0cnVlLCAiY29sb3IiOiAiYmx1ZSIsICJkYXNoQXJyYXkiOiBudWxsLCAiZGFzaE9mZnNldCI6IG51bGwsICJmaWxsIjogdHJ1ZSwgImZpbGxDb2xvciI6ICIjMzE4NmNjIiwgImZpbGxPcGFjaXR5IjogMC43LCAiZmlsbFJ1bGUiOiAiZXZlbm9kZCIsICJsaW5lQ2FwIjogInJvdW5kIiwgImxpbmVKb2luIjogInJvdW5kIiwgIm9wYWNpdHkiOiAxLjAsICJyYWRpdXMiOiA1LCAic3Ryb2tlIjogdHJ1ZSwgIndlaWdodCI6IDN9CiAgICAgICAgICAgICkuYWRkVG8obWFwX2VhZDc0OTI5ZWE1NzQxNGI5NTE3ZWQ1ZDQ1YmJhN2I5KTsKICAgICAgICAKICAgIAogICAgICAgIHZhciBwb3B1cF9lMGFlMjEwNmZjNGI0OGU2OGY1YjRhZGMxMGM5YjZiMSA9IEwucG9wdXAoeyJtYXhXaWR0aCI6ICIxMDAlIn0pOwoKICAgICAgICAKICAgICAgICAgICAgdmFyIGh0bWxfOWJlMWZhNmZhZWViNDdjZTg5OGY3MDkxNjFiMDllNTcgPSAkKGA8ZGl2IGlkPSJodG1sXzliZTFmYTZmYWVlYjQ3Y2U4OThmNzA5MTYxYjA5ZTU3IiBzdHlsZT0id2lkdGg6IDEwMC4wJTsgaGVpZ2h0OiAxMDAuMCU7Ij5EZWVyIFBhcmssIEZvcmVzdCBIaWxsIFNFLCBSYXRobmVsbHksIFNvdXRoIEhpbGwsIFN1bW1lcmhpbGwgV2VzdCwgQ2VudHJhbCBUb3JvbnRvPC9kaXY+YClbMF07CiAgICAgICAgICAgIHBvcHVwX2UwYWUyMTA2ZmM0YjQ4ZTY4ZjViNGFkYzEwYzliNmIxLnNldENvbnRlbnQoaHRtbF85YmUxZmE2ZmFlZWI0N2NlODk4ZjcwOTE2MWIwOWU1Nyk7CiAgICAgICAgCgogICAgICAgIGNpcmNsZV9tYXJrZXJfNjA3NDdlYTlhODhhNDgxNmE4M2JkZmYwNzA4YjA1NzAuYmluZFBvcHVwKHBvcHVwX2UwYWUyMTA2ZmM0YjQ4ZTY4ZjViNGFkYzEwYzliNmIxKQogICAgICAgIDsKCiAgICAgICAgCiAgICAKICAgIAogICAgICAgICAgICB2YXIgY2lyY2xlX21hcmtlcl83NzI0MGE3ZTc4ZmI0MDlkYjZmZTFiMDlkY2U1NWY5ZiA9IEwuY2lyY2xlTWFya2VyKAogICAgICAgICAgICAgICAgWzQzLjYyODk0NjcsIC03OS4zOTQ0MTk5XSwKICAgICAgICAgICAgICAgIHsiYnViYmxpbmdNb3VzZUV2ZW50cyI6IHRydWUsICJjb2xvciI6ICJibHVlIiwgImRhc2hBcnJheSI6IG51bGwsICJkYXNoT2Zmc2V0IjogbnVsbCwgImZpbGwiOiB0cnVlLCAiZmlsbENvbG9yIjogIiMzMTg2Y2MiLCAiZmlsbE9wYWNpdHkiOiAwLjcsICJmaWxsUnVsZSI6ICJldmVub2RkIiwgImxpbmVDYXAiOiAicm91bmQiLCAibGluZUpvaW4iOiAicm91bmQiLCAib3BhY2l0eSI6IDEuMCwgInJhZGl1cyI6IDUsICJzdHJva2UiOiB0cnVlLCAid2VpZ2h0IjogM30KICAgICAgICAgICAgKS5hZGRUbyhtYXBfZWFkNzQ5MjllYTU3NDE0Yjk1MTdlZDVkNDViYmE3YjkpOwogICAgICAgIAogICAgCiAgICAgICAgdmFyIHBvcHVwXzc4NTViYTJlNTE5YzRlODU4MTMwZTVhMmEzMDc1MDFlID0gTC5wb3B1cCh7Im1heFdpZHRoIjogIjEwMCUifSk7CgogICAgICAgIAogICAgICAgICAgICB2YXIgaHRtbF9lYjhiOTBiY2MwMjE0ZmM3ODM1ODY5OTVlNzA3NDdkYiA9ICQoYDxkaXYgaWQ9Imh0bWxfZWI4YjkwYmNjMDIxNGZjNzgzNTg2OTk1ZTcwNzQ3ZGIiIHN0eWxlPSJ3aWR0aDogMTAwLjAlOyBoZWlnaHQ6IDEwMC4wJTsiPkNOIFRvd2VyLCBCYXRodXJzdCBRdWF5LCBJc2xhbmQgYWlycG9ydCwgSGFyYm91cmZyb250IFdlc3QsIEtpbmcgYW5kIFNwYWRpbmEsIFJhaWx3YXkgTGFuZHMsIFNvdXRoIE5pYWdhcmEsIERvd250b3duIFRvcm9udG88L2Rpdj5gKVswXTsKICAgICAgICAgICAgcG9wdXBfNzg1NWJhMmU1MTljNGU4NTgxMzBlNWEyYTMwNzUwMWUuc2V0Q29udGVudChodG1sX2ViOGI5MGJjYzAyMTRmYzc4MzU4Njk5NWU3MDc0N2RiKTsKICAgICAgICAKCiAgICAgICAgY2lyY2xlX21hcmtlcl83NzI0MGE3ZTc4ZmI0MDlkYjZmZTFiMDlkY2U1NWY5Zi5iaW5kUG9wdXAocG9wdXBfNzg1NWJhMmU1MTljNGU4NTgxMzBlNWEyYTMwNzUwMWUpCiAgICAgICAgOwoKICAgICAgICAKICAgIAogICAgCiAgICAgICAgICAgIHZhciBjaXJjbGVfbWFya2VyXzljN2RiZjJhOTU2NTQyZGViYmFmNDY4YzU5MmUzOTg1ID0gTC5jaXJjbGVNYXJrZXIoCiAgICAgICAgICAgICAgICBbNDMuNjc5NTYyNiwgLTc5LjM3NzUyOTQwMDAwMDAxXSwKICAgICAgICAgICAgICAgIHsiYnViYmxpbmdNb3VzZUV2ZW50cyI6IHRydWUsICJjb2xvciI6ICJibHVlIiwgImRhc2hBcnJheSI6IG51bGwsICJkYXNoT2Zmc2V0IjogbnVsbCwgImZpbGwiOiB0cnVlLCAiZmlsbENvbG9yIjogIiMzMTg2Y2MiLCAiZmlsbE9wYWNpdHkiOiAwLjcsICJmaWxsUnVsZSI6ICJldmVub2RkIiwgImxpbmVDYXAiOiAicm91bmQiLCAibGluZUpvaW4iOiAicm91bmQiLCAib3BhY2l0eSI6IDEuMCwgInJhZGl1cyI6IDUsICJzdHJva2UiOiB0cnVlLCAid2VpZ2h0IjogM30KICAgICAgICAgICAgKS5hZGRUbyhtYXBfZWFkNzQ5MjllYTU3NDE0Yjk1MTdlZDVkNDViYmE3YjkpOwogICAgICAgIAogICAgCiAgICAgICAgdmFyIHBvcHVwXzEyM2VlNDU1YThiMDRhZDdhM2YxMzRmZWUzOTYyNzRiID0gTC5wb3B1cCh7Im1heFdpZHRoIjogIjEwMCUifSk7CgogICAgICAgIAogICAgICAgICAgICB2YXIgaHRtbF9iNjZiZjVjYzEzMzc0NGIxYjYxNWZkYWYyMTdiN2E0YSA9ICQoYDxkaXYgaWQ9Imh0bWxfYjY2YmY1Y2MxMzM3NDRiMWI2MTVmZGFmMjE3YjdhNGEiIHN0eWxlPSJ3aWR0aDogMTAwLjAlOyBoZWlnaHQ6IDEwMC4wJTsiPlJvc2VkYWxlLCBEb3dudG93biBUb3JvbnRvPC9kaXY+YClbMF07CiAgICAgICAgICAgIHBvcHVwXzEyM2VlNDU1YThiMDRhZDdhM2YxMzRmZWUzOTYyNzRiLnNldENvbnRlbnQoaHRtbF9iNjZiZjVjYzEzMzc0NGIxYjYxNWZkYWYyMTdiN2E0YSk7CiAgICAgICAgCgogICAgICAgIGNpcmNsZV9tYXJrZXJfOWM3ZGJmMmE5NTY1NDJkZWJiYWY0NjhjNTkyZTM5ODUuYmluZFBvcHVwKHBvcHVwXzEyM2VlNDU1YThiMDRhZDdhM2YxMzRmZWUzOTYyNzRiKQogICAgICAgIDsKCiAgICAgICAgCiAgICAKICAgIAogICAgICAgICAgICB2YXIgY2lyY2xlX21hcmtlcl85MTE0MjdjNTViZTE0MmI2OTNhZDQzYzIyMjQzMjFiOCA9IEwuY2lyY2xlTWFya2VyKAogICAgICAgICAgICAgICAgWzQzLjY0NjQzNTIsIC03OS4zNzQ4NDU5OTk5OTk5OV0sCiAgICAgICAgICAgICAgICB7ImJ1YmJsaW5nTW91c2VFdmVudHMiOiB0cnVlLCAiY29sb3IiOiAiYmx1ZSIsICJkYXNoQXJyYXkiOiBudWxsLCAiZGFzaE9mZnNldCI6IG51bGwsICJmaWxsIjogdHJ1ZSwgImZpbGxDb2xvciI6ICIjMzE4NmNjIiwgImZpbGxPcGFjaXR5IjogMC43LCAiZmlsbFJ1bGUiOiAiZXZlbm9kZCIsICJsaW5lQ2FwIjogInJvdW5kIiwgImxpbmVKb2luIjogInJvdW5kIiwgIm9wYWNpdHkiOiAxLjAsICJyYWRpdXMiOiA1LCAic3Ryb2tlIjogdHJ1ZSwgIndlaWdodCI6IDN9CiAgICAgICAgICAgICkuYWRkVG8obWFwX2VhZDc0OTI5ZWE1NzQxNGI5NTE3ZWQ1ZDQ1YmJhN2I5KTsKICAgICAgICAKICAgIAogICAgICAgIHZhciBwb3B1cF84ZDA3YTQzM2RlZDY0YjI5OTE1MmIyZjgyMWI5OTJjMyA9IEwucG9wdXAoeyJtYXhXaWR0aCI6ICIxMDAlIn0pOwoKICAgICAgICAKICAgICAgICAgICAgdmFyIGh0bWxfZWM0M2Y2ODUxY2M0NDRjNmFjZjY2MDE4YmMxMjFmNjcgPSAkKGA8ZGl2IGlkPSJodG1sX2VjNDNmNjg1MWNjNDQ0YzZhY2Y2NjAxOGJjMTIxZjY3IiBzdHlsZT0id2lkdGg6IDEwMC4wJTsgaGVpZ2h0OiAxMDAuMCU7Ij5TdG4gQSBQTyBCb3hlcyAyNSBUaGUgRXNwbGFuYWRlLCBEb3dudG93biBUb3JvbnRvPC9kaXY+YClbMF07CiAgICAgICAgICAgIHBvcHVwXzhkMDdhNDMzZGVkNjRiMjk5MTUyYjJmODIxYjk5MmMzLnNldENvbnRlbnQoaHRtbF9lYzQzZjY4NTFjYzQ0NGM2YWNmNjYwMThiYzEyMWY2Nyk7CiAgICAgICAgCgogICAgICAgIGNpcmNsZV9tYXJrZXJfOTExNDI3YzU1YmUxNDJiNjkzYWQ0M2MyMjI0MzIxYjguYmluZFBvcHVwKHBvcHVwXzhkMDdhNDMzZGVkNjRiMjk5MTUyYjJmODIxYjk5MmMzKQogICAgICAgIDsKCiAgICAgICAgCiAgICAKICAgIAogICAgICAgICAgICB2YXIgY2lyY2xlX21hcmtlcl8zOTVjYmFmY2Y4OTk0ZTVlOWQ2YmM2MmZkODc3ZWUxNCA9IEwuY2lyY2xlTWFya2VyKAogICAgICAgICAgICAgICAgWzQzLjY2Nzk2NywgLTc5LjM2NzY3NTNdLAogICAgICAgICAgICAgICAgeyJidWJibGluZ01vdXNlRXZlbnRzIjogdHJ1ZSwgImNvbG9yIjogImJsdWUiLCAiZGFzaEFycmF5IjogbnVsbCwgImRhc2hPZmZzZXQiOiBudWxsLCAiZmlsbCI6IHRydWUsICJmaWxsQ29sb3IiOiAiIzMxODZjYyIsICJmaWxsT3BhY2l0eSI6IDAuNywgImZpbGxSdWxlIjogImV2ZW5vZGQiLCAibGluZUNhcCI6ICJyb3VuZCIsICJsaW5lSm9pbiI6ICJyb3VuZCIsICJvcGFjaXR5IjogMS4wLCAicmFkaXVzIjogNSwgInN0cm9rZSI6IHRydWUsICJ3ZWlnaHQiOiAzfQogICAgICAgICAgICApLmFkZFRvKG1hcF9lYWQ3NDkyOWVhNTc0MTRiOTUxN2VkNWQ0NWJiYTdiOSk7CiAgICAgICAgCiAgICAKICAgICAgICB2YXIgcG9wdXBfNzdkOWIwMDQwNTY3NDZmOTllMDExZGY2Njk5MzRlZjAgPSBMLnBvcHVwKHsibWF4V2lkdGgiOiAiMTAwJSJ9KTsKCiAgICAgICAgCiAgICAgICAgICAgIHZhciBodG1sXzY4OWIyNDU2NjUwNDRkYTRhNGZlZjlhOGQ0N2ZjN2Q3ID0gJChgPGRpdiBpZD0iaHRtbF82ODliMjQ1NjY1MDQ0ZGE0YTRmZWY5YThkNDdmYzdkNyIgc3R5bGU9IndpZHRoOiAxMDAuMCU7IGhlaWdodDogMTAwLjAlOyI+Q2FiYmFnZXRvd24sIFN0LiBKYW1lcyBUb3duLCBEb3dudG93biBUb3JvbnRvPC9kaXY+YClbMF07CiAgICAgICAgICAgIHBvcHVwXzc3ZDliMDA0MDU2NzQ2Zjk5ZTAxMWRmNjY5OTM0ZWYwLnNldENvbnRlbnQoaHRtbF82ODliMjQ1NjY1MDQ0ZGE0YTRmZWY5YThkNDdmYzdkNyk7CiAgICAgICAgCgogICAgICAgIGNpcmNsZV9tYXJrZXJfMzk1Y2JhZmNmODk5NGU1ZTlkNmJjNjJmZDg3N2VlMTQuYmluZFBvcHVwKHBvcHVwXzc3ZDliMDA0MDU2NzQ2Zjk5ZTAxMWRmNjY5OTM0ZWYwKQogICAgICAgIDsKCiAgICAgICAgCiAgICAKICAgIAogICAgICAgICAgICB2YXIgY2lyY2xlX21hcmtlcl8xNWY5YjZjYjEyNzI0Zjg2YjAwNzBjYjBlMjlkNzM0YiA9IEwuY2lyY2xlTWFya2VyKAogICAgICAgICAgICAgICAgWzQzLjY0ODQyOTIsIC03OS4zODIyODAyXSwKICAgICAgICAgICAgICAgIHsiYnViYmxpbmdNb3VzZUV2ZW50cyI6IHRydWUsICJjb2xvciI6ICJibHVlIiwgImRhc2hBcnJheSI6IG51bGwsICJkYXNoT2Zmc2V0IjogbnVsbCwgImZpbGwiOiB0cnVlLCAiZmlsbENvbG9yIjogIiMzMTg2Y2MiLCAiZmlsbE9wYWNpdHkiOiAwLjcsICJmaWxsUnVsZSI6ICJldmVub2RkIiwgImxpbmVDYXAiOiAicm91bmQiLCAibGluZUpvaW4iOiAicm91bmQiLCAib3BhY2l0eSI6IDEuMCwgInJhZGl1cyI6IDUsICJzdHJva2UiOiB0cnVlLCAid2VpZ2h0IjogM30KICAgICAgICAgICAgKS5hZGRUbyhtYXBfZWFkNzQ5MjllYTU3NDE0Yjk1MTdlZDVkNDViYmE3YjkpOwogICAgICAgIAogICAgCiAgICAgICAgdmFyIHBvcHVwXzY3ZTlmYWVkZDkxYTQwYTI5ZjQyOTVkODVkMGE3YThlID0gTC5wb3B1cCh7Im1heFdpZHRoIjogIjEwMCUifSk7CgogICAgICAgIAogICAgICAgICAgICB2YXIgaHRtbF9lYTczZDJiMWE0ZTI0MTZiYTg1ODVlZjcxZGEzY2U1NSA9ICQoYDxkaXYgaWQ9Imh0bWxfZWE3M2QyYjFhNGUyNDE2YmE4NTg1ZWY3MWRhM2NlNTUiIHN0eWxlPSJ3aWR0aDogMTAwLjAlOyBoZWlnaHQ6IDEwMC4wJTsiPkZpcnN0IENhbmFkaWFuIFBsYWNlLCBVbmRlcmdyb3VuZCBjaXR5LCBEb3dudG93biBUb3JvbnRvPC9kaXY+YClbMF07CiAgICAgICAgICAgIHBvcHVwXzY3ZTlmYWVkZDkxYTQwYTI5ZjQyOTVkODVkMGE3YThlLnNldENvbnRlbnQoaHRtbF9lYTczZDJiMWE0ZTI0MTZiYTg1ODVlZjcxZGEzY2U1NSk7CiAgICAgICAgCgogICAgICAgIGNpcmNsZV9tYXJrZXJfMTVmOWI2Y2IxMjcyNGY4NmIwMDcwY2IwZTI5ZDczNGIuYmluZFBvcHVwKHBvcHVwXzY3ZTlmYWVkZDkxYTQwYTI5ZjQyOTVkODVkMGE3YThlKQogICAgICAgIDsKCiAgICAgICAgCiAgICAKICAgIAogICAgICAgICAgICB2YXIgY2lyY2xlX21hcmtlcl9jMjQ2YmRmMzc0Yjk0MzgxYTY1OTUxOTI1MzcyNDk3MSA9IEwuY2lyY2xlTWFya2VyKAogICAgICAgICAgICAgICAgWzQzLjY2NTg1OTksIC03OS4zODMxNTk5MDAwMDAwMV0sCiAgICAgICAgICAgICAgICB7ImJ1YmJsaW5nTW91c2VFdmVudHMiOiB0cnVlLCAiY29sb3IiOiAiYmx1ZSIsICJkYXNoQXJyYXkiOiBudWxsLCAiZGFzaE9mZnNldCI6IG51bGwsICJmaWxsIjogdHJ1ZSwgImZpbGxDb2xvciI6ICIjMzE4NmNjIiwgImZpbGxPcGFjaXR5IjogMC43LCAiZmlsbFJ1bGUiOiAiZXZlbm9kZCIsICJsaW5lQ2FwIjogInJvdW5kIiwgImxpbmVKb2luIjogInJvdW5kIiwgIm9wYWNpdHkiOiAxLjAsICJyYWRpdXMiOiA1LCAic3Ryb2tlIjogdHJ1ZSwgIndlaWdodCI6IDN9CiAgICAgICAgICAgICkuYWRkVG8obWFwX2VhZDc0OTI5ZWE1NzQxNGI5NTE3ZWQ1ZDQ1YmJhN2I5KTsKICAgICAgICAKICAgIAogICAgICAgIHZhciBwb3B1cF81YzBlMTBlMjhlZjE0ZDhjYjIxMmRlM2NjYTliYWEwMiA9IEwucG9wdXAoeyJtYXhXaWR0aCI6ICIxMDAlIn0pOwoKICAgICAgICAKICAgICAgICAgICAgdmFyIGh0bWxfNTA1ZWFmOWIxZjcyNGU0MWI2YjQxMGYyNWVmYWIzNWMgPSAkKGA8ZGl2IGlkPSJodG1sXzUwNWVhZjliMWY3MjRlNDFiNmI0MTBmMjVlZmFiMzVjIiBzdHlsZT0id2lkdGg6IDEwMC4wJTsgaGVpZ2h0OiAxMDAuMCU7Ij5DaHVyY2ggYW5kIFdlbGxlc2xleSwgRG93bnRvd24gVG9yb250bzwvZGl2PmApWzBdOwogICAgICAgICAgICBwb3B1cF81YzBlMTBlMjhlZjE0ZDhjYjIxMmRlM2NjYTliYWEwMi5zZXRDb250ZW50KGh0bWxfNTA1ZWFmOWIxZjcyNGU0MWI2YjQxMGYyNWVmYWIzNWMpOwogICAgICAgIAoKICAgICAgICBjaXJjbGVfbWFya2VyX2MyNDZiZGYzNzRiOTQzODFhNjU5NTE5MjUzNzI0OTcxLmJpbmRQb3B1cChwb3B1cF81YzBlMTBlMjhlZjE0ZDhjYjIxMmRlM2NjYTliYWEwMikKICAgICAgICA7CgogICAgICAgIAogICAgCiAgICAKICAgICAgICAgICAgdmFyIGNpcmNsZV9tYXJrZXJfOWZhODM4MmZkMmZhNDI1ZjgyMTRjN2Q5N2Y0OTFiMmEgPSBMLmNpcmNsZU1hcmtlcigKICAgICAgICAgICAgICAgIFs0My42NjI3NDM5LCAtNzkuMzIxNTU4XSwKICAgICAgICAgICAgICAgIHsiYnViYmxpbmdNb3VzZUV2ZW50cyI6IHRydWUsICJjb2xvciI6ICJibHVlIiwgImRhc2hBcnJheSI6IG51bGwsICJkYXNoT2Zmc2V0IjogbnVsbCwgImZpbGwiOiB0cnVlLCAiZmlsbENvbG9yIjogIiMzMTg2Y2MiLCAiZmlsbE9wYWNpdHkiOiAwLjcsICJmaWxsUnVsZSI6ICJldmVub2RkIiwgImxpbmVDYXAiOiAicm91bmQiLCAibGluZUpvaW4iOiAicm91bmQiLCAib3BhY2l0eSI6IDEuMCwgInJhZGl1cyI6IDUsICJzdHJva2UiOiB0cnVlLCAid2VpZ2h0IjogM30KICAgICAgICAgICAgKS5hZGRUbyhtYXBfZWFkNzQ5MjllYTU3NDE0Yjk1MTdlZDVkNDViYmE3YjkpOwogICAgICAgIAogICAgCiAgICAgICAgdmFyIHBvcHVwX2MxMThkYmY5YzA0ZDQzZDg5NWZjMGIxZTNiZDBhNmY2ID0gTC5wb3B1cCh7Im1heFdpZHRoIjogIjEwMCUifSk7CgogICAgICAgIAogICAgICAgICAgICB2YXIgaHRtbF8wNGI3MmY5OGIzNDY0ZWRkYjczMzY3ZmI3N2NkOTQ5YSA9ICQoYDxkaXYgaWQ9Imh0bWxfMDRiNzJmOThiMzQ2NGVkZGI3MzM2N2ZiNzdjZDk0OWEiIHN0eWxlPSJ3aWR0aDogMTAwLjAlOyBoZWlnaHQ6IDEwMC4wJTsiPkJ1c2luZXNzIFJlcGx5IE1haWwgUHJvY2Vzc2luZyBDZW50cmUgOTY5IEVhc3Rlcm4sIEVhc3QgVG9yb250bzwvZGl2PmApWzBdOwogICAgICAgICAgICBwb3B1cF9jMTE4ZGJmOWMwNGQ0M2Q4OTVmYzBiMWUzYmQwYTZmNi5zZXRDb250ZW50KGh0bWxfMDRiNzJmOThiMzQ2NGVkZGI3MzM2N2ZiNzdjZDk0OWEpOwogICAgICAgIAoKICAgICAgICBjaXJjbGVfbWFya2VyXzlmYTgzODJmZDJmYTQyNWY4MjE0YzdkOTdmNDkxYjJhLmJpbmRQb3B1cChwb3B1cF9jMTE4ZGJmOWMwNGQ0M2Q4OTVmYzBiMWUzYmQwYTZmNikKICAgICAgICA7CgogICAgICAgIAogICAgCjwvc2NyaXB0Pg==\" style=\"position:absolute;width:100%;height:100%;left:0;top:0;border:none !important;\" allowfullscreen webkitallowfullscreen mozallowfullscreen></iframe></div></div>"
      ],
      "text/plain": [
       "<folium.folium.Map at 0x204a0a0bbe0>"
      ]
     },
     "execution_count": 18,
     "metadata": {},
     "output_type": "execute_result"
    }
   ],
   "source": [
    "#Show an initial map of the neighborhoods in Toronto\n",
    "# create map of Toronto using first entries latitude and longitude values\n",
    "map_toronto = folium.Map(location=[toronto_df[\"Latitude\"][0], toronto_df[\"Longitude\"][0]], zoom_start=10)\n",
    "\n",
    "# add markers to map\n",
    "for lat, lng, borough, neighborhood in zip(toronto_df['Latitude'], toronto_df['Longitude'], toronto_df['Borough'], toronto_df['Neighbourhood']):\n",
    "    label = '{}, {}'.format(neighborhood, borough)\n",
    "    label = folium.Popup(label, parse_html=True)\n",
    "    folium.CircleMarker(\n",
    "        [lat, lng],\n",
    "        radius=5,\n",
    "        popup=label,\n",
    "        color='blue',\n",
    "        fill=True,\n",
    "        fill_color='#3186cc',\n",
    "        fill_opacity=0.7,\n",
    "        parse_html=False).add_to(map_toronto)  \n",
    "    \n",
    "map_toronto"
   ]
  },
  {
   "cell_type": "markdown",
   "metadata": {},
   "source": [
    "<h3> Step 3D - Use Four Square API to Explore </h3>\n",
    "<p> We are going to start utilizing the Foursquare API to explore the neighborhoods and segment them.</p>"
   ]
  },
  {
   "cell_type": "code",
   "execution_count": 19,
   "metadata": {},
   "outputs": [
    {
     "name": "stdout",
     "output_type": "stream",
     "text": [
      "Your credentails:\n",
      "CLIENT_ID: V0DGIPOL3TARSV1GJA3IFZZMB4XK4BLS1WLMHEKVY0ZXOG5L\n",
      "CLIENT_SECRET:OPHJQIJSA33Y3HU1TIM4LNMT5HJOAXAO2AU2VIITTPQGFU3S\n"
     ]
    }
   ],
   "source": [
    "CLIENT_ID = 'V0DGIPOL3TARSV1GJA3IFZZMB4XK4BLS1WLMHEKVY0ZXOG5L' # your Foursquare ID\n",
    "CLIENT_SECRET = 'OPHJQIJSA33Y3HU1TIM4LNMT5HJOAXAO2AU2VIITTPQGFU3S' # your Foursquare Secret\n",
    "VERSION = '20180605' # Foursquare API version\n",
    "\n",
    "print('Your credentails:')\n",
    "print('CLIENT_ID: ' + CLIENT_ID)\n",
    "print('CLIENT_SECRET:' + CLIENT_SECRET)"
   ]
  },
  {
   "cell_type": "markdown",
   "metadata": {},
   "source": [
    "<h4>Explore First Neighborhood</h4>\n",
    "<p>Explore a single neighborhood for insights.</p>"
   ]
  },
  {
   "cell_type": "code",
   "execution_count": 20,
   "metadata": {},
   "outputs": [
    {
     "name": "stdout",
     "output_type": "stream",
     "text": [
      "Latitude and longitude values of Harbourfront, Regent Park are 43.6542599, -79.3606359.\n"
     ]
    }
   ],
   "source": [
    "# Get data of first neighborhood\n",
    "neighborhood_latitude = toronto_df['Latitude'][0] # neighborhood latitude value\n",
    "neighborhood_longitude = toronto_df['Longitude'][0] # neighborhood longitude value\n",
    "\n",
    "neighborhood_name = toronto_df['Neighbourhood'][0] # neighborhood name\n",
    "\n",
    "print('Latitude and longitude values of {} are {}, {}.'.format(neighborhood_name, \n",
    "                                                               neighborhood_latitude, \n",
    "                                                               neighborhood_longitude))"
   ]
  },
  {
   "cell_type": "code",
   "execution_count": 21,
   "metadata": {},
   "outputs": [
    {
     "data": {
      "text/html": [
       "<div>\n",
       "<style scoped>\n",
       "    .dataframe tbody tr th:only-of-type {\n",
       "        vertical-align: middle;\n",
       "    }\n",
       "\n",
       "    .dataframe tbody tr th {\n",
       "        vertical-align: top;\n",
       "    }\n",
       "\n",
       "    .dataframe thead th {\n",
       "        text-align: right;\n",
       "    }\n",
       "</style>\n",
       "<table border=\"1\" class=\"dataframe\">\n",
       "  <thead>\n",
       "    <tr style=\"text-align: right;\">\n",
       "      <th></th>\n",
       "      <th>name</th>\n",
       "      <th>categories</th>\n",
       "      <th>lat</th>\n",
       "      <th>lng</th>\n",
       "    </tr>\n",
       "  </thead>\n",
       "  <tbody>\n",
       "    <tr>\n",
       "      <th>0</th>\n",
       "      <td>Roselle Desserts</td>\n",
       "      <td>Bakery</td>\n",
       "      <td>43.653447</td>\n",
       "      <td>-79.362017</td>\n",
       "    </tr>\n",
       "    <tr>\n",
       "      <th>1</th>\n",
       "      <td>Tandem Coffee</td>\n",
       "      <td>Coffee Shop</td>\n",
       "      <td>43.653559</td>\n",
       "      <td>-79.361809</td>\n",
       "    </tr>\n",
       "    <tr>\n",
       "      <th>2</th>\n",
       "      <td>Toronto Cooper Koo Family Cherry St YMCA Centre</td>\n",
       "      <td>Gym / Fitness Center</td>\n",
       "      <td>43.653191</td>\n",
       "      <td>-79.357947</td>\n",
       "    </tr>\n",
       "    <tr>\n",
       "      <th>3</th>\n",
       "      <td>Body Blitz Spa East</td>\n",
       "      <td>Spa</td>\n",
       "      <td>43.654735</td>\n",
       "      <td>-79.359874</td>\n",
       "    </tr>\n",
       "    <tr>\n",
       "      <th>4</th>\n",
       "      <td>Morning Glory Cafe</td>\n",
       "      <td>Breakfast Spot</td>\n",
       "      <td>43.653947</td>\n",
       "      <td>-79.361149</td>\n",
       "    </tr>\n",
       "  </tbody>\n",
       "</table>\n",
       "</div>"
      ],
      "text/plain": [
       "                                              name            categories  \\\n",
       "0                                 Roselle Desserts                Bakery   \n",
       "1                                    Tandem Coffee           Coffee Shop   \n",
       "2  Toronto Cooper Koo Family Cherry St YMCA Centre  Gym / Fitness Center   \n",
       "3                              Body Blitz Spa East                   Spa   \n",
       "4                               Morning Glory Cafe        Breakfast Spot   \n",
       "\n",
       "         lat        lng  \n",
       "0  43.653447 -79.362017  \n",
       "1  43.653559 -79.361809  \n",
       "2  43.653191 -79.357947  \n",
       "3  43.654735 -79.359874  \n",
       "4  43.653947 -79.361149  "
      ]
     },
     "execution_count": 21,
     "metadata": {},
     "output_type": "execute_result"
    }
   ],
   "source": [
    "# Setup API URL to explore venues near by\n",
    "LIMIT = 100\n",
    "radius = 500\n",
    "url = 'https://api.foursquare.com/v2/venues/explore?client_id={}&client_secret={}&ll={},{}&v={}&radius={}&limit={}'.format(CLIENT_ID, CLIENT_SECRET, neighborhood_latitude, neighborhood_longitude, VERSION, radius, LIMIT)\n",
    "neighborhood_json = requests.get(url).json()\n",
    "\n",
    "# function that extracts the category of the venue\n",
    "def get_category_type(row):\n",
    "    try:\n",
    "        categories_list = row['categories']\n",
    "    except:\n",
    "        categories_list = row['venue.categories']\n",
    "        \n",
    "    if len(categories_list) == 0:\n",
    "        return None\n",
    "    else:\n",
    "        return categories_list[0]['name']\n",
    "    \n",
    "venues = neighborhood_json['response']['groups'][0]['items']\n",
    "    \n",
    "nearby_venues = json_normalize(venues) # flatten JSON\n",
    "\n",
    "# filter columns\n",
    "filtered_columns = ['venue.name', 'venue.categories', 'venue.location.lat', 'venue.location.lng']\n",
    "nearby_venues =nearby_venues.loc[:, filtered_columns]\n",
    "\n",
    "# filter the category for each row\n",
    "nearby_venues['venue.categories'] = nearby_venues.apply(get_category_type, axis=1)\n",
    "\n",
    "# clean columns\n",
    "nearby_venues.columns = [col.split(\".\")[-1] for col in nearby_venues.columns]\n",
    "\n",
    "nearby_venues.head()\n",
    "\n"
   ]
  },
  {
   "cell_type": "markdown",
   "metadata": {},
   "source": [
    "<h4>Generalize Venue Data Collection</h4>\n",
    "<p> Below is a method to get the data in a more generalized form we can easily recall </p>"
   ]
  },
  {
   "cell_type": "code",
   "execution_count": 22,
   "metadata": {},
   "outputs": [],
   "source": [
    "def getNearbyVenues(names, latitudes, longitudes, radius=500):\n",
    "    \n",
    "    venues_list=[]\n",
    "    for name, lat, lng in zip(names, latitudes, longitudes):\n",
    "        print(name)\n",
    "            \n",
    "        # create the API request URL\n",
    "        url = 'https://api.foursquare.com/v2/venues/explore?&client_id={}&client_secret={}&v={}&ll={},{}&radius={}&limit={}'.format(\n",
    "            CLIENT_ID, \n",
    "            CLIENT_SECRET, \n",
    "            VERSION, \n",
    "            lat, \n",
    "            lng, \n",
    "            radius, \n",
    "            LIMIT)\n",
    "            \n",
    "        # make the GET request\n",
    "        results = requests.get(url).json()[\"response\"]['groups'][0]['items']\n",
    "        \n",
    "        # return only relevant information for each nearby venue\n",
    "        venues_list.append([(\n",
    "            name, \n",
    "            lat, \n",
    "            lng, \n",
    "            v['venue']['name'], \n",
    "            v['venue']['location']['lat'], \n",
    "            v['venue']['location']['lng'],  \n",
    "            v['venue']['categories'][0]['name']) for v in results])\n",
    "\n",
    "    nearby_venues = pd.DataFrame([item for venue_list in venues_list for item in venue_list])\n",
    "    nearby_venues.columns = ['Neighborhood', \n",
    "                  'Neighborhood Latitude', \n",
    "                  'Neighborhood Longitude', \n",
    "                  'Venue', \n",
    "                  'Venue Latitude', \n",
    "                  'Venue Longitude', \n",
    "                  'Venue Category']\n",
    "    \n",
    "    return(nearby_venues)"
   ]
  },
  {
   "cell_type": "markdown",
   "metadata": {},
   "source": [
    "<h4> Get Venue Data from Foursquare for all neighborhoods </h4>"
   ]
  },
  {
   "cell_type": "code",
   "execution_count": null,
   "metadata": {},
   "outputs": [
    {
     "name": "stdout",
     "output_type": "stream",
     "text": [
      "Harbourfront, Regent Park\n",
      "Ryerson, Garden District\n"
     ]
    }
   ],
   "source": [
    "#Get all Tor\n",
    "toronto_venues_df = getNearbyVenues(names=toronto_df['Neighbourhood'],\n",
    "                                   latitudes=toronto_df['Latitude'],\n",
    "                                   longitudes=toronto_df['Longitude']\n",
    "                                  )"
   ]
  },
  {
   "cell_type": "code",
   "execution_count": null,
   "metadata": {},
   "outputs": [],
   "source": [
    "print(toronto_venues_df.shape)\n",
    "toronto_venues_df.head()"
   ]
  },
  {
   "cell_type": "code",
   "execution_count": null,
   "metadata": {},
   "outputs": [],
   "source": [
    "toronto_venues_df.groupby('Neighborhood').count()"
   ]
  },
  {
   "cell_type": "code",
   "execution_count": null,
   "metadata": {},
   "outputs": [],
   "source": [
    "print('There are {} uniques categories.'.format(len(toronto_venues_df['Venue Category'].unique())))"
   ]
  },
  {
   "cell_type": "markdown",
   "metadata": {},
   "source": [
    "<h3> Step 3E - Analyze Neighborhoods </h3>"
   ]
  },
  {
   "cell_type": "code",
   "execution_count": null,
   "metadata": {},
   "outputs": [],
   "source": [
    "# one hot encoding\n",
    "toronto_onehot = pd.get_dummies(toronto_venues_df[['Venue Category']], prefix=\"\", prefix_sep=\"\")\n",
    "\n",
    "# add neighborhood column back to dataframe\n",
    "toronto_onehot['Neighborhood'] = toronto_venues_df['Neighborhood'] \n",
    "\n",
    "# move neighborhood column to the first column\n",
    "fixed_columns = [toronto_onehot.columns[-1]] + list(toronto_onehot.columns[:-1])\n",
    "toronto_onehot = toronto_onehot[fixed_columns]\n",
    "\n",
    "toronto_onehot.head()"
   ]
  },
  {
   "cell_type": "code",
   "execution_count": null,
   "metadata": {},
   "outputs": [],
   "source": [
    "toronto_grouped = toronto_onehot.groupby('Neighborhood').mean().reset_index()\n",
    "toronto_grouped"
   ]
  },
  {
   "cell_type": "code",
   "execution_count": null,
   "metadata": {},
   "outputs": [],
   "source": [
    "num_top_venues = 5\n",
    "\n",
    "for hood in toronto_grouped['Neighborhood']:\n",
    "    print(\"----\"+hood+\"----\")\n",
    "    temp = toronto_grouped[toronto_grouped['Neighborhood'] == hood].T.reset_index()\n",
    "    temp.columns = ['venue','freq']\n",
    "    temp = temp.iloc[1:]\n",
    "    temp['freq'] = temp['freq'].astype(float)\n",
    "    temp = temp.round({'freq': 2})\n",
    "    print(temp.sort_values('freq', ascending=False).reset_index(drop=True).head(num_top_venues))\n",
    "    print('\\n')"
   ]
  },
  {
   "cell_type": "code",
   "execution_count": null,
   "metadata": {},
   "outputs": [],
   "source": [
    "#method to sort venues\n",
    "def return_most_common_venues(row, num_top_venues):\n",
    "    row_categories = row.iloc[1:]\n",
    "    row_categories_sorted = row_categories.sort_values(ascending=False)\n",
    "    \n",
    "    return row_categories_sorted.index.values[0:num_top_venues]"
   ]
  },
  {
   "cell_type": "code",
   "execution_count": null,
   "metadata": {},
   "outputs": [],
   "source": [
    "num_top_venues = 10\n",
    "\n",
    "indicators = ['st', 'nd', 'rd']\n",
    "\n",
    "# create columns according to number of top venues\n",
    "columns = ['Neighborhood']\n",
    "for ind in np.arange(num_top_venues):\n",
    "    try:\n",
    "        columns.append('{}{} Most Common Venue'.format(ind+1, indicators[ind]))\n",
    "    except:\n",
    "        columns.append('{}th Most Common Venue'.format(ind+1))\n",
    "\n",
    "# create a new dataframe\n",
    "neighborhoods_venues_sorted = pd.DataFrame(columns=columns)\n",
    "neighborhoods_venues_sorted['Neighborhood'] = toronto_grouped['Neighborhood']\n",
    "\n",
    "for ind in np.arange(toronto_grouped.shape[0]):\n",
    "    neighborhoods_venues_sorted.iloc[ind, 1:] = return_most_common_venues(toronto_grouped.iloc[ind, :], num_top_venues)\n",
    "\n",
    "neighborhoods_venues_sorted.head()"
   ]
  },
  {
   "cell_type": "markdown",
   "metadata": {},
   "source": [
    "<h3> Step 3F - Cluster Neighborhoods </h3>"
   ]
  },
  {
   "cell_type": "code",
   "execution_count": null,
   "metadata": {},
   "outputs": [],
   "source": [
    "# set number of clusters\n",
    "kclusters = int(len(toronto_df[\"Neighbourhood\"].unique()) / 4)\n",
    "toronto_grouped_clustering = toronto_grouped.drop('Neighborhood', 1)\n",
    "\n",
    "# run k-means clustering\n",
    "kmeans = KMeans(n_clusters=kclusters, random_state=1).fit(toronto_grouped_clustering)\n",
    "\n",
    "# add clustering labels\n",
    "neighborhoods_venues_sorted.insert(0, 'Cluster Labels', kmeans.labels_)\n",
    "\n",
    "toronto_merged = toronto_df.copy()\n",
    "toronto_merged.rename(columns={'Neighbourhood':'Neighborhood'}, inplace=True)\n",
    "# merge toronto_grouped with toronto_data to add latitude/longitude for each neighborhood\n",
    "toronto_merged = toronto_merged.join(neighborhoods_venues_sorted.set_index('Neighborhood'), on='Neighborhood')\n",
    "\n",
    "toronto_merged.head() # check the last columns!"
   ]
  },
  {
   "cell_type": "code",
   "execution_count": null,
   "metadata": {},
   "outputs": [],
   "source": [
    "# create map\n",
    "map_clusters = folium.Map(location=[toronto_df[\"Latitude\"][0], toronto_df[\"Longitude\"][0]], zoom_start=11)\n",
    "\n",
    "# set color scheme for the clusters\n",
    "x = np.arange(kclusters)\n",
    "ys = [i + x + (i*x)**2 for i in range(kclusters)]\n",
    "colors_array = cm.rainbow(np.linspace(0, 1, len(ys)))\n",
    "rainbow = [colors.rgb2hex(i) for i in colors_array]\n",
    "\n",
    "# add markers to the map\n",
    "markers_colors = []\n",
    "for lat, lon, poi, cluster in zip(toronto_merged['Latitude'], toronto_merged['Longitude'], toronto_merged['Neighborhood'], toronto_merged['Cluster Labels']):\n",
    "    label = folium.Popup(str(poi) + ' Cluster ' + str(cluster), parse_html=True)\n",
    "    folium.CircleMarker(\n",
    "        [lat, lon],\n",
    "        radius=5,\n",
    "        popup=label,\n",
    "        color=rainbow[cluster-1],\n",
    "        fill=True,\n",
    "        fill_color=rainbow[cluster-1],\n",
    "        fill_opacity=0.7).add_to(map_clusters)\n",
    "       \n",
    "map_clusters"
   ]
  },
  {
   "cell_type": "code",
   "execution_count": null,
   "metadata": {},
   "outputs": [],
   "source": []
  }
 ],
 "metadata": {
  "kernelspec": {
   "display_name": "Python 3",
   "language": "python",
   "name": "python3"
  },
  "language_info": {
   "codemirror_mode": {
    "name": "ipython",
    "version": 3
   },
   "file_extension": ".py",
   "mimetype": "text/x-python",
   "name": "python",
   "nbconvert_exporter": "python",
   "pygments_lexer": "ipython3",
   "version": "3.7.3"
  }
 },
 "nbformat": 4,
 "nbformat_minor": 2
}
