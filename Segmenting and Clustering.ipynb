{
 "cells": [
  {
   "cell_type": "code",
   "execution_count": 14,
   "metadata": {},
   "outputs": [],
   "source": [
    "import requests\n",
    "import pandas as pd\n",
    "import numpy as np\n",
    "import bs4 as bs\n",
    "import urllib.request\n",
    "import lxml.html as lh"
   ]
  },
  {
   "cell_type": "code",
   "execution_count": 16,
   "metadata": {},
   "outputs": [],
   "source": [
    "#Assigning URL\n",
    "url='https://en.wikipedia.org/wiki/List_of_postal_codes_of_Canada:_M'"
   ]
  },
  {
   "cell_type": "code",
   "execution_count": 21,
   "metadata": {},
   "outputs": [],
   "source": [
    "#Scarping the  URL using Beautiful Soup i.e Table Header and Table Data using HTML tags\n",
    "\n",
    "def scrape_table_bs4(cname, cols):\n",
    "    page  = urllib.request.urlopen(url).read()\n",
    "    soup  = bs.BeautifulSoup(page, 'html.parser')\n",
    "    table = soup.find(\"table\", class_ = cname)\n",
    "    header = [head.findAll(text = True)[0].strip() for head in table.find_all(\"th\")]\n",
    "    data   = [[td.findAll(text = True)[0].strip() for td in tr.find_all(\"td\")]\n",
    "    for tr in table.find_all(\"tr\")]\n",
    "    data    = [row for row in data if len(row) == cols]\n",
    "    raw_df = pd.DataFrame(data, columns = header)\n",
    "    return raw_df\n",
    "\n"
   ]
  },
  {
   "cell_type": "code",
   "execution_count": 22,
   "metadata": {},
   "outputs": [],
   "source": [
    "def scrape_table_lxml(XPATH, cols):\n",
    "    page = requests.get(url)\n",
    "    doc = lh.fromstring(page.content)\n",
    "    table_content = doc.xpath(XPATH)\n",
    "    for table in table_content:\n",
    "        headers = [th.text_content().strip() for th in table.xpath('//th')]\n",
    "        headers = headers[0:3]\n",
    "        data    = [[td.text_content().strip() for td in tr.xpath('td')] \n",
    "        for tr in table.xpath('//tbody/tr')]\n",
    "        data    = [row for row in data if len(row) == cols]\n",
    "        raw_df = pd.DataFrame(data, columns = headers)\n",
    "        return raw_df\n"
   ]
  },
  {
   "cell_type": "code",
   "execution_count": 23,
   "metadata": {},
   "outputs": [],
   "source": [
    "raw_data = scrape_table_bs4(\"wikitable\", 3)"
   ]
  },
  {
   "cell_type": "code",
   "execution_count": 25,
   "metadata": {},
   "outputs": [],
   "source": [
    "\n",
    "\n",
    "df = raw_data[~raw_data['Borough'].isin(['Not assigned'])]\n",
    "df = df.sort_values(by=['Postcode','Borough','Neighbourhood'], ascending = [1,1,1]).reset_index(drop = True)\n",
    "df.loc[df['Neighbourhood'] == 'Not assigned', ['Neighbourhood']] = df['Borough']\n",
    "check_unassigned_sample = df.loc[df['Borough'] == 'Queen\\'s Park']\n",
    "df = df.groupby(['Postcode','Borough'])['Neighbourhood'].apply(', '.join).reset_index()"
   ]
  },
  {
   "cell_type": "code",
   "execution_count": 26,
   "metadata": {},
   "outputs": [
    {
     "data": {
      "text/html": [
       "<div>\n",
       "<style scoped>\n",
       "    .dataframe tbody tr th:only-of-type {\n",
       "        vertical-align: middle;\n",
       "    }\n",
       "\n",
       "    .dataframe tbody tr th {\n",
       "        vertical-align: top;\n",
       "    }\n",
       "\n",
       "    .dataframe thead th {\n",
       "        text-align: right;\n",
       "    }\n",
       "</style>\n",
       "<table border=\"1\" class=\"dataframe\">\n",
       "  <thead>\n",
       "    <tr style=\"text-align: right;\">\n",
       "      <th></th>\n",
       "      <th>Postcode</th>\n",
       "      <th>Borough</th>\n",
       "      <th>Neighbourhood</th>\n",
       "    </tr>\n",
       "  </thead>\n",
       "  <tbody>\n",
       "    <tr>\n",
       "      <th>0</th>\n",
       "      <td>M1B</td>\n",
       "      <td>Scarborough</td>\n",
       "      <td>Malvern, Rouge</td>\n",
       "    </tr>\n",
       "    <tr>\n",
       "      <th>1</th>\n",
       "      <td>M1C</td>\n",
       "      <td>Scarborough</td>\n",
       "      <td>Highland Creek, Port Union, Rouge Hill</td>\n",
       "    </tr>\n",
       "    <tr>\n",
       "      <th>2</th>\n",
       "      <td>M1E</td>\n",
       "      <td>Scarborough</td>\n",
       "      <td>Guildwood, Morningside, West Hill</td>\n",
       "    </tr>\n",
       "    <tr>\n",
       "      <th>3</th>\n",
       "      <td>M1G</td>\n",
       "      <td>Scarborough</td>\n",
       "      <td>Woburn</td>\n",
       "    </tr>\n",
       "    <tr>\n",
       "      <th>4</th>\n",
       "      <td>M1H</td>\n",
       "      <td>Scarborough</td>\n",
       "      <td>Cedarbrae</td>\n",
       "    </tr>\n",
       "  </tbody>\n",
       "</table>\n",
       "</div>"
      ],
      "text/plain": [
       "  Postcode      Borough                           Neighbourhood\n",
       "0      M1B  Scarborough                          Malvern, Rouge\n",
       "1      M1C  Scarborough  Highland Creek, Port Union, Rouge Hill\n",
       "2      M1E  Scarborough       Guildwood, Morningside, West Hill\n",
       "3      M1G  Scarborough                                  Woburn\n",
       "4      M1H  Scarborough                               Cedarbrae"
      ]
     },
     "execution_count": 26,
     "metadata": {},
     "output_type": "execute_result"
    }
   ],
   "source": [
    "#Display the first 5 rows\n",
    "df.head()"
   ]
  },
  {
   "cell_type": "code",
   "execution_count": 27,
   "metadata": {},
   "outputs": [
    {
     "data": {
      "text/plain": [
       "(103, 3)"
      ]
     },
     "execution_count": 27,
     "metadata": {},
     "output_type": "execute_result"
    }
   ],
   "source": [
    "#Print the shape\n",
    "df.shape"
   ]
  },
  {
   "cell_type": "code",
   "execution_count": null,
   "metadata": {},
   "outputs": [],
   "source": []
  }
 ],
 "metadata": {
  "kernelspec": {
   "display_name": "Python 3",
   "language": "python",
   "name": "python3"
  }
 },
 "nbformat": 4,
 "nbformat_minor": 2
}
